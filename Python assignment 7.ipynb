{
 "cells": [
  {
   "cell_type": "markdown",
   "id": "bfa2be5c",
   "metadata": {},
   "source": [
    " Q1. Why are functions advantageous to have in our programs ? \n"
   ]
  },
  {
   "cell_type": "code",
   "execution_count": null,
   "id": "46256b1d",
   "metadata": {},
   "outputs": [],
   "source": [
    "Functions in programming are named blocks of code that perform a specific task or set of tasks.\n",
    "They are advantageous because of the following reasons: - \n",
    "Modularity: Functions allow you to break down your program into smaller, manageable, and reusable parts. Each function can \n",
    "    perform a specific task, making the code easier to understand, debug, and maintain.\n",
    "\n",
    "Code Reusability: Once you define a function, you can call it multiple times from different parts of your program without \n",
    "    rewriting the same code. This reduces redundancy and ensures consistency in how tasks are performed.\n",
    "\n",
    "Abstraction: Functions allow you to hide the complexity of the code. By giving a meaningful name to a function, you can convey \n",
    "    its purpose without needing to understand its internal implementation details.\n",
    "\n",
    "Encapsulation: Functions can encapsulate a series of steps into a single entity. This means you can treat a function as a black\n",
    "    box: you input certain parameters, and it returns a result, without needing to know how it accomplishes the task.\n",
    "\n",
    "Improved Readability: Using well-named functions can make your code more readable and easier to follow. Instead of having long\n",
    "    blocks of code, functions allow you to organize and structure your code logically.\n",
    "\n"
   ]
  },
  {
   "cell_type": "markdown",
   "id": "4c49b4fd",
   "metadata": {},
   "source": [
    "Q2. When does the code in a function run: when it&#39;s specified or when it&#39;s called?"
   ]
  },
  {
   "cell_type": "code",
   "execution_count": null,
   "id": "37e8a28f",
   "metadata": {},
   "outputs": [],
   "source": [
    "The code in a function runs when the function is called, not when it is specified or defined"
   ]
  },
  {
   "cell_type": "markdown",
   "id": "f7f62a9f",
   "metadata": {},
   "source": [
    "Q3. What statement creates a function?"
   ]
  },
  {
   "cell_type": "code",
   "execution_count": null,
   "id": "a679dbbb",
   "metadata": {},
   "outputs": [],
   "source": [
    "In most programming languages, including Python, JavaScript, Java, C++, and many others, a function is created using a function \n",
    "definition statement."
   ]
  },
  {
   "cell_type": "markdown",
   "id": "5494f1d8",
   "metadata": {},
   "source": [
    "4. What is the difference between a function and a function call?"
   ]
  },
  {
   "cell_type": "code",
   "execution_count": null,
   "id": "6783cc25",
   "metadata": {},
   "outputs": [],
   "source": [
    "Definition vs. Invocation: \n",
    "A function is defined once with its name, parameters, and code structure. Function calls are used multiple times throughout the\n",
    "program to execute the defined functionality.\n",
    "\n",
    "Structure:\n",
    "Functions have a structure (header and body) defining what they do. Function calls are simply the usage of that functionality at\n",
    "specific points in the program.\n",
    "\n",
    "Purpose:\n",
    "Functions provide structure and organization to code, promote reusability, and encapsulate logic. Function calls are the points \n",
    "where the actual computation or action takes place.\n",
    "\n",
    "In summary, a function is the abstract concept of a reusable block of code, while a function call is the specific instance of \n",
    "invoking that function to perform its defined task."
   ]
  },
  {
   "cell_type": "markdown",
   "id": "944de7a5",
   "metadata": {},
   "source": [
    "Q5. How many global scopes are there in a Python program? How many local scopes?"
   ]
  },
  {
   "cell_type": "code",
   "execution_count": null,
   "id": "4161ea60",
   "metadata": {},
   "outputs": [],
   "source": [
    "In a Python program, there is typically one global scope and potentially multiple local scopes."
   ]
  },
  {
   "cell_type": "markdown",
   "id": "754c5368",
   "metadata": {},
   "source": [
    "6. What happens to variables in a local scope when the function call returns?"
   ]
  },
  {
   "cell_type": "code",
   "execution_count": null,
   "id": "8d5f87c3",
   "metadata": {},
   "outputs": [],
   "source": [
    "When a function call in Python returns, the local variables that were defined within the function's scope cease to exist. \n",
    "Here's what happens in more detail:\n",
    "\n",
    "Function Execution: When a function is called, Python creates a new local scope for that function.\n",
    "\n",
    "Variable Scope: Any variables defined within the function (local variables) are created and stored in this local scope. These \n",
    "                variables are only accessible within the function.\n",
    "\n",
    "Function Return: When the function execution completes (either by reaching the end of the function or encountering a return \n",
    "                statement), the function returns control back to the point where it was called.\n",
    "\n",
    "Scope Cleanup: At this point, Python releases the resources associated with the local variables of the function. This means:\n",
    "\n",
    "Local variables are destroyed.\n",
    "Any memory allocated to these variables is freed up.\n",
    "The names of these variables are no longer accessible outside the function.\n",
    "\n",
    "This behavior ensures that local variables do not persist beyond their intended lifetime, maintaining clean and efficient\n",
    "memory usage in Python programs.\n"
   ]
  },
  {
   "cell_type": "markdown",
   "id": "0c0da20c",
   "metadata": {},
   "source": [
    "7. What is the concept of a return value? Is it possible to have a return value in an expression?"
   ]
  },
  {
   "cell_type": "code",
   "execution_count": null,
   "id": "c14581b7",
   "metadata": {},
   "outputs": [],
   "source": [
    "the concept of a return value allows functions to produce results that can be used elsewhere in the program. Return values can\n",
    "be expressions that evaluate to a specific value, making it versatile for performing calculations or data processing within \n",
    "functions.\n",
    "\n",
    "Yes, it is possible to have a return value in an expression in many programming languages, including Python"
   ]
  },
  {
   "cell_type": "markdown",
   "id": "7074bedc",
   "metadata": {},
   "source": [
    "Q8. If a function does not have a return statement, what is the return value of a call to that function?"
   ]
  },
  {
   "cell_type": "code",
   "execution_count": null,
   "id": "d00c3068",
   "metadata": {},
   "outputs": [],
   "source": [
    "If a function in Python does not have a return statement, or if it ends without executing a return statement, the function\n",
    "implicitly returns None. None is a special Python object that represents the absence of a value or the lack of any specific\n",
    "value."
   ]
  },
  {
   "cell_type": "markdown",
   "id": "e34a2538",
   "metadata": {},
   "source": [
    "9. How do you make a function variable refer to the global variable?"
   ]
  },
  {
   "cell_type": "code",
   "execution_count": null,
   "id": "b0a9e7ab",
   "metadata": {},
   "outputs": [],
   "source": [
    "In Python, if you want to make a function variable refer to a global variable (i.e., access or modify the global variable from \n",
    "within the function), you can use the global keyword"
   ]
  },
  {
   "cell_type": "markdown",
   "id": "2001218b",
   "metadata": {},
   "source": [
    "10. What is the data type of None?"
   ]
  },
  {
   "cell_type": "code",
   "execution_count": null,
   "id": "284037d5",
   "metadata": {},
   "outputs": [],
   "source": [
    "In Python, None is a special constant that represents the absence of a value or a null value. It is a unique data type of its \n",
    "own, known as the NoneType."
   ]
  },
  {
   "cell_type": "markdown",
   "id": "6ae88431",
   "metadata": {},
   "source": [
    "Q11. What does the sentence import areallyourpetsnamederic do?"
   ]
  },
  {
   "cell_type": "code",
   "execution_count": 4,
   "id": "7e83ff02",
   "metadata": {},
   "outputs": [
    {
     "ename": "ModuleNotFoundError",
     "evalue": "No module named 'areallyourpetsnamederic'",
     "output_type": "error",
     "traceback": [
      "\u001b[1;31m---------------------------------------------------------------------------\u001b[0m",
      "\u001b[1;31mModuleNotFoundError\u001b[0m                       Traceback (most recent call last)",
      "Cell \u001b[1;32mIn[4], line 1\u001b[0m\n\u001b[1;32m----> 1\u001b[0m \u001b[38;5;28;01mimport\u001b[39;00m \u001b[38;5;21;01mareallyourpetsnamederic\u001b[39;00m\n",
      "\u001b[1;31mModuleNotFoundError\u001b[0m: No module named 'areallyourpetsnamederic'"
     ]
    }
   ],
   "source": [
    "import areallyourpetsnamederic"
   ]
  },
  {
   "cell_type": "code",
   "execution_count": null,
   "id": "db240350",
   "metadata": {},
   "outputs": [],
   "source": [
    "The sentence import areallyourpetsnamederic is not a standard Python import statement and would typically result in a \n",
    "ModuleNotFoundError unless there is a module named areallyourpetsnamederic available in your Python environment"
   ]
  },
  {
   "cell_type": "markdown",
   "id": "0cc4ace8",
   "metadata": {},
   "source": [
    "Q12. If you had a bacon() feature in a spam module, what would you call it after importing spam?"
   ]
  },
  {
   "cell_type": "code",
   "execution_count": null,
   "id": "788d67c2",
   "metadata": {},
   "outputs": [],
   "source": [
    "After importing the spam module in Python, if you want to use the bacon() function that is defined within spam, you would call\n",
    "it using the module name followed by dot notation: spam.bacon()"
   ]
  },
  {
   "cell_type": "markdown",
   "id": "3ef29e9e",
   "metadata": {},
   "source": [
    "Q13. What can you do to save a programme from crashing if it encounters an error?"
   ]
  },
  {
   "cell_type": "code",
   "execution_count": null,
   "id": "1a0c56b5",
   "metadata": {},
   "outputs": [],
   "source": [
    "To prevent a Python program from crashing due to errors, you can use error handling techniques. Following are some approaches \n",
    "we can take:\n",
    "    1. Try-Except Blocks\n",
    "    2. Specific Exception Handling\n",
    "    3. Logging\n",
    "    4. Graceful Exit\n",
    "    5. Validation and Error Checking"
   ]
  },
  {
   "cell_type": "markdown",
   "id": "b53e6aee",
   "metadata": {},
   "source": [
    "Q14. What is the purpose of the try clause? What is the purpose of the except clause?"
   ]
  },
  {
   "cell_type": "code",
   "execution_count": null,
   "id": "707c356c",
   "metadata": {},
   "outputs": [],
   "source": [
    "In Python, the try and except clauses are used together within a try-except block to handle exceptions and errors that may occur\n",
    "during the execution of code. Here's a breakdown of their purposes:\n",
    "\n",
    "Purpose of the try Clause:\n",
    "    \n",
    "Error-Prone Code: The try clause is used to enclose the block of code where you anticipate potential exceptions or errors might \n",
    "occur.\n",
    "\n",
    "Testing Code: It allows you to \"try\" executing a block of code and monitor for any exceptions without the program halting \n",
    "abruptly.\n",
    "\n",
    "Scope: Only the code inside the try block is monitored for exceptions.\n",
    "    \n",
    "    \n",
    "Purpose of the except Clause:\n",
    "Exception Handling: The except clause immediately follows a try block and specifies how to handle specific exceptions that may\n",
    "have been raised within the try block.\n",
    "\n",
    "Specificity: You can have multiple except clauses to handle different types of exceptions that might occur.\n",
    "    \n",
    "Fallback: If an exception occurs in the try block, the corresponding except block provides a fallback mechanism to handle the \n",
    "error gracefully.\n",
    "\n",
    "Logging/Reporting: It can also be used to log or report the occurrence of exceptions for debugging purposes."
   ]
  }
 ],
 "metadata": {
  "kernelspec": {
   "display_name": "Python 3 (ipykernel)",
   "language": "python",
   "name": "python3"
  },
  "language_info": {
   "codemirror_mode": {
    "name": "ipython",
    "version": 3
   },
   "file_extension": ".py",
   "mimetype": "text/x-python",
   "name": "python",
   "nbconvert_exporter": "python",
   "pygments_lexer": "ipython3",
   "version": "3.10.9"
  }
 },
 "nbformat": 4,
 "nbformat_minor": 5
}
