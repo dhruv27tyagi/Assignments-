{
 "cells": [
  {
   "cell_type": "code",
   "execution_count": null,
   "id": "3539ad61",
   "metadata": {},
   "outputs": [],
   "source": [
    "Q1. Is the Python Standard Library included with PyInputPlus?"
   ]
  },
  {
   "cell_type": "code",
   "execution_count": null,
   "id": "4947e2d2",
   "metadata": {},
   "outputs": [],
   "source": [
    "PyInputPlus is a third-party Python library for input validation and retrieval. It is not part of the Python Standard Library, \n",
    "which means it is not included by default when you install Python.\n",
    "\n",
    "To use PyInputPlus in your Python projects, you need to install it separately. You can install PyInputPlus using pip, \n",
    "a package manager for Python:"
   ]
  },
  {
   "cell_type": "code",
   "execution_count": null,
   "id": "d883b696",
   "metadata": {},
   "outputs": [],
   "source": []
  },
  {
   "cell_type": "code",
   "execution_count": null,
   "id": "632e32f9",
   "metadata": {},
   "outputs": [],
   "source": [
    "Q2. Why is PyInputPlus commonly imported with import pyinputplus as pypi?"
   ]
  },
  {
   "cell_type": "code",
   "execution_count": null,
   "id": "f0cbe553",
   "metadata": {},
   "outputs": [],
   "source": [
    "It is a common convention to import PyInputPlus as pyinputplus (or a similar short alias like pypi) for brevity and readability \n",
    "in your code. While the choice of alias is ultimately up to the developer's preference, using a shorter alias can make your \n",
    "code more concise and easier to read."
   ]
  },
  {
   "cell_type": "code",
   "execution_count": null,
   "id": "59438198",
   "metadata": {},
   "outputs": [],
   "source": []
  },
  {
   "cell_type": "code",
   "execution_count": null,
   "id": "5311692d",
   "metadata": {},
   "outputs": [],
   "source": [
    "Q3. How do you distinguish between inputInt() and inputFloat()?"
   ]
  },
  {
   "cell_type": "code",
   "execution_count": null,
   "id": "1416fac4",
   "metadata": {},
   "outputs": [],
   "source": [
    "In PyInputPlus, inputInt() and inputFloat() are functions used to obtain user input as integers and floating-point numbers, \n",
    "respectively. They are used to distinguish between integer and floating-point input based on the type of value you want to\n",
    "collect from the user.\n",
    "\n",
    "The key distinction between these two functions is the type of input they expect and the type of value they return. inputInt()\n",
    "returns an integer, while inputFloat() returns a floating-point number."
   ]
  },
  {
   "cell_type": "code",
   "execution_count": null,
   "id": "da4fc2ea",
   "metadata": {},
   "outputs": [],
   "source": []
  },
  {
   "cell_type": "code",
   "execution_count": null,
   "id": "61d6350e",
   "metadata": {},
   "outputs": [],
   "source": [
    "Q4. Using PyInputPlus, how do you ensure that the user enters a whole number between 0 and 99?"
   ]
  },
  {
   "cell_type": "code",
   "execution_count": null,
   "id": "f2c4d130",
   "metadata": {},
   "outputs": [],
   "source": [
    "To ensure that the user enters a whole number between 0 and 99 using PyInputPlus, you can use the inputInt() function along \n",
    "with custom validation functions and the min and max arguments."
   ]
  },
  {
   "cell_type": "code",
   "execution_count": null,
   "id": "78b6ecbc",
   "metadata": {},
   "outputs": [
    {
     "name": "stdout",
     "output_type": "stream",
     "text": [
      "Enter a whole number between 0 and 99: "
     ]
    }
   ],
   "source": [
    "import pyinputplus as pyip\n",
    "\n",
    "def is_valid_number(value):\n",
    "    # Check if the value is a whole number between 0 and 99\n",
    "    return 0 <= value <= 99\n",
    "\n",
    "prompt = \"Enter a whole number between 0 and 99: \"\n",
    "number = pyip.inputInt(prompt, min=0, max=99, allowRegexes=[r'^\\d+$'], blockRegexes=[r'^[^\\d]+$'], applyFunc=is_valid_number)"
   ]
  },
  {
   "cell_type": "code",
   "execution_count": null,
   "id": "3402cb44",
   "metadata": {},
   "outputs": [],
   "source": [
    "In this code:\n",
    "\n",
    "We define a custom validation function is_valid_number(value) that checks whether the given value is a whole number between 0 \n",
    "and 99.\n",
    "\n",
    "We set up the prompt message to display to the user.\n",
    "\n",
    "We use pyip.inputInt() to obtain an integer input from the user.\n",
    "\n",
    "The min argument is set to 0 to ensure that the input is not less than 0.\n",
    "\n",
    "The max argument is set to 99 to ensure that the input is not greater than 99.\n",
    "\n",
    "The allowRegexes argument is set to [r'^\\d+$'] to allow only input that matches the regular expression for one or more digits,\n",
    "ensuring it's a whole number.\n",
    "\n",
    "The blockRegexes argument is set to [r'^[^\\d]+$'] to block input that contains any non-digit characters.\n",
    "\n",
    "The applyFunc argument is set to our custom validation function is_valid_number to further validate that the input is within \n",
    "the desired range."
   ]
  },
  {
   "cell_type": "code",
   "execution_count": null,
   "id": "8be37130",
   "metadata": {},
   "outputs": [],
   "source": []
  },
  {
   "cell_type": "code",
   "execution_count": null,
   "id": "5368e3c1",
   "metadata": {},
   "outputs": [],
   "source": [
    "Q5.What is transferred to the keyword arguments allowRegexes and blockRegexes?"
   ]
  },
  {
   "cell_type": "code",
   "execution_count": null,
   "id": "812b6550",
   "metadata": {},
   "outputs": [],
   "source": [
    "The allowRegexes and blockRegexes keyword arguments in PyInputPlus are used to specify regular expressions that determine which\n",
    "input patterns are allowed (permitted) or blocked (rejected) during input validation. These arguments should be provided as\n",
    "lists of regular expressions.\n",
    "\n",
    "allowRegexes: This argument specifies a list of regular expressions. Input is considered valid if it matches any of the regular\n",
    "expressions in this list. If none of the regular expressions in allowRegexes matches the input, it is considered invalid.\n",
    "\n",
    "For example, if you want to allow input that matches either a whole number or a decimal number, you can use allowRegexes\n",
    "\n",
    "blockRegexes: This argument specifies a list of regular expressions. Input is considered invalid if it matches any of the \n",
    "regular expressions in this list. If the input matches any of the blockRegexes, it is rejected and the user is prompted to \n",
    "provide valid input.\n",
    "\n",
    "For example, if you want to block input that contains any non-digit characters, you can use blockRegexes"
   ]
  },
  {
   "cell_type": "code",
   "execution_count": null,
   "id": "bd82daff",
   "metadata": {},
   "outputs": [],
   "source": []
  },
  {
   "cell_type": "code",
   "execution_count": null,
   "id": "2fe95c58",
   "metadata": {},
   "outputs": [],
   "source": [
    "Q6. If a blank input is entered three times, what does inputStr(limit=3) do?"
   ]
  },
  {
   "cell_type": "code",
   "execution_count": null,
   "id": "127f510e",
   "metadata": {},
   "outputs": [],
   "source": [
    "If you use inputStr(limit=3) and the user enters a blank input (i.e., an empty string) three times in a row, PyInputPlus will \n",
    "raise a pyinputplus.RetryLimitException after the third attempt. This exception is raised because the limit parameter specifies\n",
    "the maximum number of retries or attempts allowed before PyInputPlus gives up and raises an exception."
   ]
  },
  {
   "cell_type": "code",
   "execution_count": null,
   "id": "cd015370",
   "metadata": {},
   "outputs": [],
   "source": []
  },
  {
   "cell_type": "code",
   "execution_count": null,
   "id": "a5f54b68",
   "metadata": {},
   "outputs": [],
   "source": [
    "Q7. If blank input is entered three times, what does inputStr(limit=3, default=&#39;hello&#39;) do?"
   ]
  },
  {
   "cell_type": "code",
   "execution_count": null,
   "id": "2cfcfdc3",
   "metadata": {},
   "outputs": [],
   "source": [
    "\n",
    "If you use inputStr(limit=3, default='hello') and the user enters a blank input (i.e., an empty string) three times in a row, \n",
    "PyInputPlus will return the default value 'hello' after the third attempt. The limit parameter specifies the maximum number of \n",
    "retries or attempts allowed before falling back to the default value."
   ]
  }
 ],
 "metadata": {
  "kernelspec": {
   "display_name": "Python 3 (ipykernel)",
   "language": "python",
   "name": "python3"
  },
  "language_info": {
   "codemirror_mode": {
    "name": "ipython",
    "version": 3
   },
   "file_extension": ".py",
   "mimetype": "text/x-python",
   "name": "python",
   "nbconvert_exporter": "python",
   "pygments_lexer": "ipython3",
   "version": "3.10.9"
  }
 },
 "nbformat": 4,
 "nbformat_minor": 5
}
