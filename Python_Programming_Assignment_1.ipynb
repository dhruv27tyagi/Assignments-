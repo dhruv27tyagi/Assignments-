{
 "cells": [
  {
   "cell_type": "code",
   "execution_count": null,
   "id": "85f13850",
   "metadata": {},
   "outputs": [],
   "source": [
    "Q1."
   ]
  },
  {
   "cell_type": "code",
   "execution_count": 1,
   "id": "c5c54b2a",
   "metadata": {},
   "outputs": [
    {
     "name": "stdout",
     "output_type": "stream",
     "text": [
      "Hello Python\n"
     ]
    }
   ],
   "source": [
    "print(\"Hello Python\")"
   ]
  },
  {
   "cell_type": "code",
   "execution_count": null,
   "id": "c56f3905",
   "metadata": {},
   "outputs": [],
   "source": [
    "Q2."
   ]
  },
  {
   "cell_type": "code",
   "execution_count": 2,
   "id": "fb1195be",
   "metadata": {},
   "outputs": [],
   "source": [
    "def add(n1,n2):\n",
    "    return (n1+n2)"
   ]
  },
  {
   "cell_type": "code",
   "execution_count": 3,
   "id": "b1e7aa8f",
   "metadata": {},
   "outputs": [
    {
     "data": {
      "text/plain": [
       "7"
      ]
     },
     "execution_count": 3,
     "metadata": {},
     "output_type": "execute_result"
    }
   ],
   "source": [
    "add(3,4)"
   ]
  },
  {
   "cell_type": "code",
   "execution_count": 4,
   "id": "8dfb3bae",
   "metadata": {},
   "outputs": [],
   "source": [
    "def divide(n1,n2):\n",
    "    return n1/n2"
   ]
  },
  {
   "cell_type": "code",
   "execution_count": 5,
   "id": "5f176f0b",
   "metadata": {},
   "outputs": [
    {
     "data": {
      "text/plain": [
       "2.0"
      ]
     },
     "execution_count": 5,
     "metadata": {},
     "output_type": "execute_result"
    }
   ],
   "source": [
    "divide(10,5)"
   ]
  },
  {
   "cell_type": "code",
   "execution_count": null,
   "id": "ab83b588",
   "metadata": {},
   "outputs": [],
   "source": [
    "Q3."
   ]
  },
  {
   "cell_type": "code",
   "execution_count": 6,
   "id": "bfd92fb1",
   "metadata": {},
   "outputs": [],
   "source": [
    "def area_of_triangle(base=n1,height=n2):\n",
    "    return n1 * n2 * 0.5"
   ]
  },
  {
   "cell_type": "code",
   "execution_count": 7,
   "id": "5d1ee65d",
   "metadata": {},
   "outputs": [
    {
     "data": {
      "text/plain": [
       "50.0"
      ]
     },
     "execution_count": 7,
     "metadata": {},
     "output_type": "execute_result"
    }
   ],
   "source": [
    "area_of_triangle(base=10, height = 10)"
   ]
  },
  {
   "cell_type": "code",
   "execution_count": null,
   "id": "4a19ec68",
   "metadata": {},
   "outputs": [],
   "source": [
    "Q4."
   ]
  },
  {
   "cell_type": "code",
   "execution_count": 13,
   "id": "bb1729b6",
   "metadata": {},
   "outputs": [
    {
     "name": "stdout",
     "output_type": "stream",
     "text": [
      "Enter value 1: 10\n",
      "Enter value 2 : 20\n",
      "a = 10 ; b = 20\n",
      "After swapping values are :- a = 20 ; b = 10\n"
     ]
    }
   ],
   "source": [
    "a = input(\"Enter value 1: \")\n",
    "b = input(\"Enter value 2 : \")\n",
    "\n",
    "print(f\"a = {a} ; b = {b}\")\n",
    "\n",
    "temp = a\n",
    "a=b\n",
    "b=temp\n",
    "\n",
    "print(f\"After swapping values are :- a = {a} ; b = {b}\" )"
   ]
  },
  {
   "cell_type": "code",
   "execution_count": null,
   "id": "8c01fed7",
   "metadata": {},
   "outputs": [],
   "source": [
    "Q5. \n"
   ]
  },
  {
   "cell_type": "code",
   "execution_count": 15,
   "id": "7af6cf70",
   "metadata": {},
   "outputs": [
    {
     "name": "stdout",
     "output_type": "stream",
     "text": [
      "random number = 9\n"
     ]
    }
   ],
   "source": [
    "import random \n",
    "random_number = random.randint(1,10)\n",
    "\n",
    "print(f\"random number = {random_number}\")"
   ]
  },
  {
   "cell_type": "code",
   "execution_count": null,
   "id": "0f332971",
   "metadata": {},
   "outputs": [],
   "source": []
  }
 ],
 "metadata": {
  "kernelspec": {
   "display_name": "Python 3 (ipykernel)",
   "language": "python",
   "name": "python3"
  },
  "language_info": {
   "codemirror_mode": {
    "name": "ipython",
    "version": 3
   },
   "file_extension": ".py",
   "mimetype": "text/x-python",
   "name": "python",
   "nbconvert_exporter": "python",
   "pygments_lexer": "ipython3",
   "version": "3.10.9"
  }
 },
 "nbformat": 4,
 "nbformat_minor": 5
}
