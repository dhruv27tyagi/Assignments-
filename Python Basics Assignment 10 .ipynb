{
 "cells": [
  {
   "cell_type": "markdown",
   "id": "46022c41",
   "metadata": {},
   "source": [
    "1. How do you distinguish between shutil.copy() and shutil.copytree()?"
   ]
  },
  {
   "cell_type": "code",
   "execution_count": null,
   "id": "f3cac9d5",
   "metadata": {},
   "outputs": [],
   "source": [
    "shutil.copy() and shutil.copytree() are functions provided by Python's shutil module for file operations:\n",
    "\n",
    "Key Differences:\n",
    "\n",
    "Usage: shutil.copy() is used for copying individual files, while shutil.copytree() is used for copying entire directory \n",
    "structures.\n",
    "Parameters: shutil.copy() takes file paths (src and dst), whereas shutil.copytree() takes directory paths (src and dst).\n",
    "Behavior: shutil.copy() copies a single file or renames it, depending on dst. shutil.copytree() copies an entire directory tree\n",
    "recursively."
   ]
  },
  {
   "cell_type": "markdown",
   "id": "082608c7",
   "metadata": {},
   "source": [
    "2. What function is used to rename files??"
   ]
  },
  {
   "cell_type": "code",
   "execution_count": null,
   "id": "adedc481",
   "metadata": {},
   "outputs": [],
   "source": [
    "In Python, you can use the os.rename() function to rename files"
   ]
  },
  {
   "cell_type": "markdown",
   "id": "cd6b1f8c",
   "metadata": {},
   "source": [
    "3. What is the difference between the delete functions in the send2trash and shutil modules?"
   ]
  },
  {
   "cell_type": "code",
   "execution_count": null,
   "id": "2d45f6db",
   "metadata": {},
   "outputs": [],
   "source": [
    "Handling: send2trash moves files to the trash/recycle bin, providing a safety net for accidental deletions. On the other hand, \n",
    "          shutil functions delete files and directories permanently from the filesystem.\n",
    "\n",
    "Platform Dependency: send2trash works consistently across different operating systems, utilizing the system's built-in trash/\n",
    "                     recycle bin mechanisms. shutil functions directly interact with the filesystem and are not platform-\n",
    "                     dependent for basic file operations.\n",
    "\n",
    "Case: Use send2trash when you want to delete files in a way that allows for easy recovery by the user. Use shutil for more \n",
    "      controlled file operations and when permanent deletion is intended."
   ]
  },
  {
   "cell_type": "markdown",
   "id": "8dd4cfa5",
   "metadata": {},
   "source": [
    "4.ZipFile objects have a close() method just like File objects’ close() method. What ZipFile method is\n",
    "equivalent to File objects’ open() method?"
   ]
  },
  {
   "cell_type": "code",
   "execution_count": null,
   "id": "74805535",
   "metadata": {},
   "outputs": [],
   "source": [
    "The equivalent method in the ZipFile class to a File object's open() method is ZipFile() itself, which is used to create a new \n",
    "ZipFile object."
   ]
  },
  {
   "cell_type": "markdown",
   "id": "2d515426",
   "metadata": {},
   "source": [
    "5. Create a programme that searches a folder tree for files with a certain file extension (such as .pdf\n",
    "or .jpg). Copy these files from whatever location they are in to a new folder."
   ]
  },
  {
   "cell_type": "code",
   "execution_count": 1,
   "id": "e8cc8dcb",
   "metadata": {},
   "outputs": [],
   "source": [
    "import os\n",
    "import shutil\n",
    "\n",
    "def search_and_copy_files(source_folder, destination_folder, extensions):\n",
    "    # Create the destination folder if it doesn't exist\n",
    "    if not os.path.exists(destination_folder):\n",
    "        os.makedirs(destination_folder)\n",
    "\n",
    "    # Traverse the directory tree\n",
    "    for root, _, files in os.walk(source_folder):\n",
    "        for file in files:\n",
    "            # Check if the file has one of the specified extensions\n",
    "            if any(file.lower().endswith(ext.lower()) for ext in extensions):\n",
    "                # Construct the full path of the source file\n",
    "                source_file_path = os.path.join(root, file)\n",
    "                # Construct the full path of the destination file\n",
    "                destination_file_path = os.path.join(destination_folder, file)\n",
    "                \n",
    "                try:\n",
    "                    # Copy the file to the destination folder\n",
    "                    shutil.copy2(source_file_path, destination_file_path)\n",
    "                    print(f\"Copied {source_file_path} to {destination_file_path}\")\n",
    "                except IOError as e:\n",
    "                    print(f\"Unable to copy file: {e}\")\n",
    "\n"
   ]
  },
  {
   "cell_type": "code",
   "execution_count": null,
   "id": "550fa748",
   "metadata": {},
   "outputs": [],
   "source": []
  },
  {
   "cell_type": "code",
   "execution_count": null,
   "id": "3d92941a",
   "metadata": {},
   "outputs": [],
   "source": []
  }
 ],
 "metadata": {
  "kernelspec": {
   "display_name": "Python 3 (ipykernel)",
   "language": "python",
   "name": "python3"
  },
  "language_info": {
   "codemirror_mode": {
    "name": "ipython",
    "version": 3
   },
   "file_extension": ".py",
   "mimetype": "text/x-python",
   "name": "python",
   "nbconvert_exporter": "python",
   "pygments_lexer": "ipython3",
   "version": "3.10.9"
  }
 },
 "nbformat": 4,
 "nbformat_minor": 5
}
