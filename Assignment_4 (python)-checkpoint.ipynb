{
 "cells": [
  {
   "cell_type": "code",
   "execution_count": null,
   "id": "1928f3f6",
   "metadata": {},
   "outputs": [],
   "source": [
    "Q1. What exactly is [] ? "
   ]
  },
  {
   "cell_type": "code",
   "execution_count": null,
   "id": "8c4fcbe1",
   "metadata": {},
   "outputs": [],
   "source": [
    "[] is an empty list in python "
   ]
  },
  {
   "cell_type": "code",
   "execution_count": null,
   "id": "566b425e",
   "metadata": {},
   "outputs": [],
   "source": [
    "Q2. "
   ]
  },
  {
   "cell_type": "code",
   "execution_count": 2,
   "id": "31c42aa4",
   "metadata": {},
   "outputs": [],
   "source": [
    "spam = [2,4,6,8,10]"
   ]
  },
  {
   "cell_type": "code",
   "execution_count": 6,
   "id": "385b9489",
   "metadata": {},
   "outputs": [],
   "source": [
    "spam.insert(2, 'hello')"
   ]
  },
  {
   "cell_type": "code",
   "execution_count": 7,
   "id": "4eb9c21f",
   "metadata": {},
   "outputs": [
    {
     "data": {
      "text/plain": [
       "[2, 4, 'hello', 6, 8, 10]"
      ]
     },
     "execution_count": 7,
     "metadata": {},
     "output_type": "execute_result"
    }
   ],
   "source": [
    "spam"
   ]
  },
  {
   "cell_type": "code",
   "execution_count": null,
   "id": "a8fdfab8",
   "metadata": {},
   "outputs": [],
   "source": [
    "Q3. "
   ]
  },
  {
   "cell_type": "code",
   "execution_count": 10,
   "id": "20f420fa",
   "metadata": {},
   "outputs": [],
   "source": [
    "spam = ['a','b','c','d']"
   ]
  },
  {
   "cell_type": "code",
   "execution_count": 11,
   "id": "c3bbdf69",
   "metadata": {},
   "outputs": [
    {
     "data": {
      "text/plain": [
       "'d'"
      ]
     },
     "execution_count": 11,
     "metadata": {},
     "output_type": "execute_result"
    }
   ],
   "source": [
    "spam[int(int('3'*2)/11)]"
   ]
  },
  {
   "cell_type": "code",
   "execution_count": null,
   "id": "a7d00c54",
   "metadata": {},
   "outputs": [],
   "source": [
    "Q4."
   ]
  },
  {
   "cell_type": "code",
   "execution_count": 13,
   "id": "8ae85580",
   "metadata": {},
   "outputs": [
    {
     "data": {
      "text/plain": [
       "'d'"
      ]
     },
     "execution_count": 13,
     "metadata": {},
     "output_type": "execute_result"
    }
   ],
   "source": [
    "spam[-1]"
   ]
  },
  {
   "cell_type": "code",
   "execution_count": null,
   "id": "3a6f4d7b",
   "metadata": {},
   "outputs": [],
   "source": [
    "Q5. "
   ]
  },
  {
   "cell_type": "code",
   "execution_count": 14,
   "id": "2de303ab",
   "metadata": {},
   "outputs": [
    {
     "data": {
      "text/plain": [
       "['a', 'b']"
      ]
     },
     "execution_count": 14,
     "metadata": {},
     "output_type": "execute_result"
    }
   ],
   "source": [
    "spam[:2]"
   ]
  },
  {
   "cell_type": "code",
   "execution_count": null,
   "id": "32241081",
   "metadata": {},
   "outputs": [],
   "source": [
    "Q6. 1 "
   ]
  },
  {
   "cell_type": "code",
   "execution_count": null,
   "id": "0e71a88c",
   "metadata": {},
   "outputs": [],
   "source": [
    "Q7. [3.14,'cat',11,'cat',True,99]"
   ]
  },
  {
   "cell_type": "code",
   "execution_count": null,
   "id": "edcce2c8",
   "metadata": {},
   "outputs": [],
   "source": [
    "Q8."
   ]
  },
  {
   "cell_type": "code",
   "execution_count": 15,
   "id": "0b2f7ad3",
   "metadata": {},
   "outputs": [],
   "source": [
    "bacon = [3.14,'cat',11,'cat',True,99]"
   ]
  },
  {
   "cell_type": "code",
   "execution_count": 17,
   "id": "d85b2d02",
   "metadata": {},
   "outputs": [],
   "source": [
    "bacon.remove('cat')"
   ]
  },
  {
   "cell_type": "code",
   "execution_count": 18,
   "id": "f1fe66b3",
   "metadata": {},
   "outputs": [
    {
     "data": {
      "text/plain": [
       "[3.14, 11, True, 99]"
      ]
     },
     "execution_count": 18,
     "metadata": {},
     "output_type": "execute_result"
    }
   ],
   "source": [
    "bacon"
   ]
  },
  {
   "cell_type": "code",
   "execution_count": null,
   "id": "b28d9c0f",
   "metadata": {},
   "outputs": [],
   "source": [
    "Q9. What are the list concatenation and list replication operators ?"
   ]
  },
  {
   "cell_type": "code",
   "execution_count": null,
   "id": "0c30efe5",
   "metadata": {},
   "outputs": [],
   "source": [
    "list concatenation operator is + while the operator for replication is * "
   ]
  },
  {
   "cell_type": "code",
   "execution_count": null,
   "id": "9f75eee6",
   "metadata": {},
   "outputs": [],
   "source": [
    "Q10.What is difference between the list methods append() and insert()?"
   ]
  },
  {
   "cell_type": "code",
   "execution_count": null,
   "id": "85cf5aac",
   "metadata": {},
   "outputs": [],
   "source": [
    ".append() adds an item to the end of the list whereas .insert() adds an item in a specified position in the list. "
   ]
  },
  {
   "cell_type": "code",
   "execution_count": null,
   "id": "8d59e622",
   "metadata": {},
   "outputs": [],
   "source": [
    "Q11. What are the two methods for removing items from a list?"
   ]
  },
  {
   "cell_type": "code",
   "execution_count": null,
   "id": "68d61867",
   "metadata": {},
   "outputs": [],
   "source": [
    "remove() and pop()\n",
    "\n",
    "the pop() method removes an element based on the index give. \n",
    "the remove() method helps to remove the very first given element matching from the list. \n"
   ]
  },
  {
   "cell_type": "code",
   "execution_count": null,
   "id": "853620f1",
   "metadata": {},
   "outputs": [],
   "source": [
    "Q12. Describe how list values and string values are identical."
   ]
  },
  {
   "cell_type": "code",
   "execution_count": null,
   "id": "f507a036",
   "metadata": {},
   "outputs": [],
   "source": [
    "The similarity between Lists and Strings in Python is that both are sequences.\n",
    "The differences between them are that firstly, Lists are mutable but Strings are immutable.\n",
    "Secondly, elements of a list can be of different types whereas a String only contains characters \n",
    "that are all of String type."
   ]
  },
  {
   "cell_type": "code",
   "execution_count": null,
   "id": "d95fb884",
   "metadata": {},
   "outputs": [],
   "source": [
    "Q13. What's the difference between tuples and lists?"
   ]
  },
  {
   "cell_type": "code",
   "execution_count": null,
   "id": "287b9417",
   "metadata": {},
   "outputs": [],
   "source": [
    "1. Lists are mutable while tuples are immutable \n",
    "2. lists have several built-it methods but tuples do not have many built-in methods \n",
    "3. the implication of iterations is time-consuming in lists but comparatively faster in tuples "
   ]
  },
  {
   "cell_type": "code",
   "execution_count": null,
   "id": "645e64db",
   "metadata": {},
   "outputs": [],
   "source": [
    "Q14. How do you type a tuple value that only contains the integer 42?"
   ]
  },
  {
   "cell_type": "code",
   "execution_count": 27,
   "id": "3ebb111d",
   "metadata": {},
   "outputs": [],
   "source": [
    "t = (42,)"
   ]
  },
  {
   "cell_type": "code",
   "execution_count": null,
   "id": "78e9b9b8",
   "metadata": {},
   "outputs": [],
   "source": [
    "Q15. How do you get a list value's tuple form? How do you get a tuple value's list form?"
   ]
  },
  {
   "cell_type": "code",
   "execution_count": null,
   "id": "2ae3067e",
   "metadata": {},
   "outputs": [],
   "source": [
    "An iterable can be passed as an input to the tuple () function, which will convert it to a tuple \n",
    "object. If you want to convert a Python list to a tuple, you can use the tuple() function to pass \n",
    "the full list as an argument, and it will return the tuple data type as an output.\n",
    "\n",
    "Python list method list() takes sequence types and converts them to lists. This is used to convert a\n",
    "given tuple into list."
   ]
  },
  {
   "cell_type": "code",
   "execution_count": null,
   "id": "d5c7e36f",
   "metadata": {},
   "outputs": [],
   "source": [
    "Q16.Variables that contain list values are not necessarily lists themselves. Instead,\n",
    "what do they contain?"
   ]
  },
  {
   "cell_type": "code",
   "execution_count": null,
   "id": "6d0d8022",
   "metadata": {},
   "outputs": [],
   "source": [
    "Variables will contain references to list values rather than list values themselves.\n",
    "But for strings and integer values, variables simply contain the string or integer value."
   ]
  },
  {
   "cell_type": "code",
   "execution_count": null,
   "id": "5778a9fb",
   "metadata": {},
   "outputs": [],
   "source": [
    "Q17. How do you distinguish between copy.copy() and copy.deepcopy()"
   ]
  },
  {
   "cell_type": "code",
   "execution_count": null,
   "id": "9ec8612b",
   "metadata": {},
   "outputs": [],
   "source": [
    "copy() create reference to original object. If you change copied object - you change the original\n",
    "object. \n",
    ". deepcopy() creates new object and does real copying of original object to new one. \n",
    "Changing new deepcopied object doesn't affect original object."
   ]
  }
 ],
 "metadata": {
  "kernelspec": {
   "display_name": "Python 3 (ipykernel)",
   "language": "python",
   "name": "python3"
  },
  "language_info": {
   "codemirror_mode": {
    "name": "ipython",
    "version": 3
   },
   "file_extension": ".py",
   "mimetype": "text/x-python",
   "name": "python",
   "nbconvert_exporter": "python",
   "pygments_lexer": "ipython3",
   "version": "3.9.12"
  }
 },
 "nbformat": 4,
 "nbformat_minor": 5
}
