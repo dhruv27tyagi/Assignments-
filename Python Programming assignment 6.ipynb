{
 "cells": [
  {
   "cell_type": "markdown",
   "id": "3fe418a1",
   "metadata": {},
   "source": [
    "Write a Python Program to Display Fibonacci Sequence Using Recursion?"
   ]
  },
  {
   "cell_type": "code",
   "execution_count": 7,
   "id": "304e356b",
   "metadata": {},
   "outputs": [],
   "source": [
    "def fibonacci(n):\n",
    "    \"\"\"Returns the nth Fibonacci number using recursion.\"\"\"\n",
    "    if n <= 0:\n",
    "        return 0\n",
    "    elif n == 1:\n",
    "        return 1\n",
    "    else:\n",
    "        return fibonacci(n-1) + fibonacci(n-2)\n"
   ]
  },
  {
   "cell_type": "code",
   "execution_count": 8,
   "id": "d92a9082",
   "metadata": {},
   "outputs": [
    {
     "data": {
      "text/plain": [
       "8"
      ]
     },
     "execution_count": 8,
     "metadata": {},
     "output_type": "execute_result"
    }
   ],
   "source": [
    "fibonacci(6)"
   ]
  },
  {
   "cell_type": "code",
   "execution_count": 3,
   "id": "ba546bb6",
   "metadata": {},
   "outputs": [],
   "source": [
    "def print_fibonacci_sequence(count):\n",
    "    \"\"\"Prints the Fibonacci sequence up to the specified count.\"\"\"\n",
    "    if count <= 0:\n",
    "        print(\"Please enter a positive integer.\")\n",
    "    else:\n",
    "        print(\"Fibonacci sequence:\")\n",
    "        for i in range(count):\n",
    "            print(fibonacci(i), end=\" \")"
   ]
  },
  {
   "cell_type": "code",
   "execution_count": 4,
   "id": "d72a5927",
   "metadata": {},
   "outputs": [
    {
     "name": "stdout",
     "output_type": "stream",
     "text": [
      "Fibonacci sequence:\n",
      "0 1 1 2 3 5 8 13 21 34 "
     ]
    }
   ],
   "source": [
    "print_fibonacci_sequence(10)"
   ]
  },
  {
   "cell_type": "markdown",
   "id": "8b094828",
   "metadata": {},
   "source": [
    "Write a Python Program to Find Factorial of Number Using Recursion?"
   ]
  },
  {
   "cell_type": "code",
   "execution_count": 9,
   "id": "c85fda82",
   "metadata": {},
   "outputs": [],
   "source": [
    "def factorial(n):\n",
    "    \"\"\"Returns the factorial of n using recursion.\"\"\"\n",
    "    if n == 0 or n == 1:\n",
    "        return 1\n",
    "    else:\n",
    "        return n * factorial(n - 1)"
   ]
  },
  {
   "cell_type": "code",
   "execution_count": 10,
   "id": "78e3abf6",
   "metadata": {},
   "outputs": [
    {
     "data": {
      "text/plain": [
       "120"
      ]
     },
     "execution_count": 10,
     "metadata": {},
     "output_type": "execute_result"
    }
   ],
   "source": [
    "factorial(5)"
   ]
  },
  {
   "cell_type": "markdown",
   "id": "e77e49ef",
   "metadata": {},
   "source": [
    "Write a Python Program to calculate your Body Mass Index?"
   ]
  },
  {
   "cell_type": "code",
   "execution_count": 11,
   "id": "2bf31949",
   "metadata": {},
   "outputs": [
    {
     "name": "stdout",
     "output_type": "stream",
     "text": [
      "Enter your weight in kilograms: 53\n",
      "Enter your height in meters: 1.76\n",
      "Your Body Mass Index (BMI) is: 17.11\n"
     ]
    }
   ],
   "source": [
    "def calculate_bmi(weight_kg, height_m):\n",
    "    \"\"\"Calculates Body Mass Index (BMI) given weight in kilograms and height in meters.\"\"\"\n",
    "    bmi = weight_kg / (height_m ** 2)\n",
    "    return bmi\n",
    "\n",
    "def main():\n",
    "    # Input weight in kilograms\n",
    "    weight = float(input(\"Enter your weight in kilograms: \"))\n",
    "    \n",
    "    # Input height in meters\n",
    "    height = float(input(\"Enter your height in meters: \"))\n",
    "    \n",
    "    # Calculate BMI\n",
    "    bmi = calculate_bmi(weight, height)\n",
    "    \n",
    "    # Print BMI\n",
    "    print(f\"Your Body Mass Index (BMI) is: {bmi:.2f}\")\n",
    "\n",
    "if __name__ == \"__main__\":\n",
    "    main()\n"
   ]
  },
  {
   "cell_type": "markdown",
   "id": "23ce75b1",
   "metadata": {},
   "source": [
    "Write a Python Program to calculate the natural logarithm of any number?"
   ]
  },
  {
   "cell_type": "code",
   "execution_count": 12,
   "id": "63528e3a",
   "metadata": {},
   "outputs": [
    {
     "name": "stdout",
     "output_type": "stream",
     "text": [
      "Enter a positive number to calculate its natural logarithm: 6\n",
      "The natural logarithm of 6.0 is: 1.791759469228055\n"
     ]
    }
   ],
   "source": [
    "import math\n",
    "\n",
    "def calculate_natural_log(number):\n",
    "    try:\n",
    "        result = math.log(number)\n",
    "        return result\n",
    "    except ValueError:\n",
    "        return \"Error: Natural logarithm is defined for positive numbers only.\"\n",
    "\n",
    "# Example usage:\n",
    "if __name__ == \"__main__\":\n",
    "    number = float(input(\"Enter a positive number to calculate its natural logarithm: \"))\n",
    "    result = calculate_natural_log(number)\n",
    "    print(f\"The natural logarithm of {number} is: {result}\")\n"
   ]
  },
  {
   "cell_type": "markdown",
   "id": "cc823632",
   "metadata": {},
   "source": [
    "Write a Python Program for cube sum of first n natural numbers?\n"
   ]
  },
  {
   "cell_type": "code",
   "execution_count": 13,
   "id": "fa6235bd",
   "metadata": {},
   "outputs": [
    {
     "name": "stdout",
     "output_type": "stream",
     "text": [
      "Enter a positive integer n: 5\n",
      "The cube sum of the first 5 natural numbers is: 225\n"
     ]
    }
   ],
   "source": [
    "def cube_sum_of_first_n(n):\n",
    "    cube_sum = 0\n",
    "    for i in range(1, n+1):\n",
    "        cube_sum += i**3\n",
    "    return cube_sum\n",
    "\n",
    "# Example usage:\n",
    "if __name__ == \"__main__\":\n",
    "    n = int(input(\"Enter a positive integer n: \"))\n",
    "    result = cube_sum_of_first_n(n)\n",
    "    print(f\"The cube sum of the first {n} natural numbers is: {result}\")\n"
   ]
  },
  {
   "cell_type": "code",
   "execution_count": null,
   "id": "7d77a5fe",
   "metadata": {},
   "outputs": [],
   "source": []
  }
 ],
 "metadata": {
  "kernelspec": {
   "display_name": "Python 3 (ipykernel)",
   "language": "python",
   "name": "python3"
  },
  "language_info": {
   "codemirror_mode": {
    "name": "ipython",
    "version": 3
   },
   "file_extension": ".py",
   "mimetype": "text/x-python",
   "name": "python",
   "nbconvert_exporter": "python",
   "pygments_lexer": "ipython3",
   "version": "3.10.9"
  }
 },
 "nbformat": 4,
 "nbformat_minor": 5
}
