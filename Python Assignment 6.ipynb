{
 "cells": [
  {
   "cell_type": "code",
   "execution_count": null,
   "id": "9fb43bea",
   "metadata": {},
   "outputs": [],
   "source": [
    "\n",
    "Q1. What are escape characters, and how do you use them?\n",
    "\n"
   ]
  },
  {
   "cell_type": "code",
   "execution_count": null,
   "id": "0f745bbe",
   "metadata": {},
   "outputs": [],
   "source": [
    "\n",
    "Escape characters are special characters used in computer programming and various markup languages to represent characters or \n",
    "sequences of characters that would otherwise have a special meaning or be difficult to include directly in a string or document.\n",
    "These characters are typically preceded by a backslash (\"\") to indicate that they should be treated differently than their\n",
    "literal interpretation. Escape characters are used to insert special characters, control codes, or whitespace characters into \n",
    "strings and text documents."
   ]
  },
  {
   "cell_type": "code",
   "execution_count": null,
   "id": "d362b2d8",
   "metadata": {},
   "outputs": [],
   "source": []
  },
  {
   "cell_type": "code",
   "execution_count": null,
   "id": "f61b7ca1",
   "metadata": {},
   "outputs": [],
   "source": [
    "Q2. What do the escape characters n and t stand for?"
   ]
  },
  {
   "cell_type": "code",
   "execution_count": null,
   "id": "60340b4a",
   "metadata": {},
   "outputs": [],
   "source": [
    "\\n stands for newline character and \\t is used as tab character which is used for indentation or formatting "
   ]
  },
  {
   "cell_type": "code",
   "execution_count": null,
   "id": "40449a1c",
   "metadata": {},
   "outputs": [],
   "source": []
  },
  {
   "cell_type": "code",
   "execution_count": null,
   "id": "3c7db050",
   "metadata": {},
   "outputs": [],
   "source": [
    "Q3. What is the way to include backslash characters in a string?"
   ]
  },
  {
   "cell_type": "code",
   "execution_count": null,
   "id": "af7c04ea",
   "metadata": {},
   "outputs": [],
   "source": [
    "To include a literal backslash in a string, you should use a double backslash (\"\\\"). Here's an example:"
   ]
  },
  {
   "cell_type": "code",
   "execution_count": 3,
   "id": "45fc754e",
   "metadata": {},
   "outputs": [
    {
     "name": "stdout",
     "output_type": "stream",
     "text": [
      "example : \\\n"
     ]
    }
   ],
   "source": [
    "my_string = \"example : \\\\\"\n",
    "print(my_string)"
   ]
  },
  {
   "cell_type": "code",
   "execution_count": null,
   "id": "f4e8d309",
   "metadata": {},
   "outputs": [],
   "source": []
  },
  {
   "cell_type": "code",
   "execution_count": null,
   "id": "abf0dce6",
   "metadata": {},
   "outputs": [],
   "source": [
    "Q4. The string \"Howl's Moving Castle\" is a correct value. Why isn't the single quote character in the\n",
    "word Howl's not escaped a problem?"
   ]
  },
  {
   "cell_type": "code",
   "execution_count": null,
   "id": "7efc5049",
   "metadata": {},
   "outputs": [],
   "source": [
    "In many programming languages, including Python, single quotes can be used to define string literals, and double quotes can \n",
    "also be used for string literals. So, you can create a string using either single or double quotes, which allows you to include\n",
    "the opposite type of quote character within the string without any issues."
   ]
  },
  {
   "cell_type": "code",
   "execution_count": null,
   "id": "f620e73e",
   "metadata": {},
   "outputs": [],
   "source": []
  },
  {
   "cell_type": "code",
   "execution_count": null,
   "id": "ea4e3240",
   "metadata": {},
   "outputs": [],
   "source": [
    "Q5. How do you write a string of newlines if you don't want to use the n character?"
   ]
  },
  {
   "cell_type": "code",
   "execution_count": null,
   "id": "80cf5dca",
   "metadata": {},
   "outputs": [],
   "source": [
    "If you want to write a string with multiple newlines without using the \"\\n\" character, you can achieve this by using \n",
    "triple-quoted strings in Python. Triple-quoted strings allow you to include line breaks without explicitly using the \n",
    "\"\\n\" character. "
   ]
  },
  {
   "cell_type": "code",
   "execution_count": null,
   "id": "066cb551",
   "metadata": {},
   "outputs": [],
   "source": []
  },
  {
   "cell_type": "code",
   "execution_count": null,
   "id": "8f5cb59f",
   "metadata": {},
   "outputs": [],
   "source": [
    "Q6. What are the values of the given expressions?"
   ]
  },
  {
   "cell_type": "code",
   "execution_count": 4,
   "id": "44abdfdd",
   "metadata": {},
   "outputs": [
    {
     "data": {
      "text/plain": [
       "'e'"
      ]
     },
     "execution_count": 4,
     "metadata": {},
     "output_type": "execute_result"
    }
   ],
   "source": [
    "'Hello, world!'[1]"
   ]
  },
  {
   "cell_type": "code",
   "execution_count": 6,
   "id": "eb47e372",
   "metadata": {},
   "outputs": [
    {
     "data": {
      "text/plain": [
       "'Hello'"
      ]
     },
     "execution_count": 6,
     "metadata": {},
     "output_type": "execute_result"
    }
   ],
   "source": [
    "'Hello, world!'[0:5]"
   ]
  },
  {
   "cell_type": "code",
   "execution_count": 7,
   "id": "c7ae9030",
   "metadata": {},
   "outputs": [
    {
     "data": {
      "text/plain": [
       "'Hello'"
      ]
     },
     "execution_count": 7,
     "metadata": {},
     "output_type": "execute_result"
    }
   ],
   "source": [
    "'Hello, world!'[:5]"
   ]
  },
  {
   "cell_type": "code",
   "execution_count": 8,
   "id": "8460d647",
   "metadata": {},
   "outputs": [
    {
     "data": {
      "text/plain": [
       "'lo, world'"
      ]
     },
     "execution_count": 8,
     "metadata": {},
     "output_type": "execute_result"
    }
   ],
   "source": [
    "'Hello, world'[3:]"
   ]
  },
  {
   "cell_type": "code",
   "execution_count": null,
   "id": "6c6367ba",
   "metadata": {},
   "outputs": [],
   "source": []
  },
  {
   "cell_type": "code",
   "execution_count": null,
   "id": "38a8fa03",
   "metadata": {},
   "outputs": [],
   "source": [
    "Q7.What are the values of the following expressions? "
   ]
  },
  {
   "cell_type": "code",
   "execution_count": 9,
   "id": "8358a020",
   "metadata": {},
   "outputs": [
    {
     "data": {
      "text/plain": [
       "'HELLO'"
      ]
     },
     "execution_count": 9,
     "metadata": {},
     "output_type": "execute_result"
    }
   ],
   "source": [
    "'Hello'.upper()"
   ]
  },
  {
   "cell_type": "code",
   "execution_count": 11,
   "id": "3af99981",
   "metadata": {},
   "outputs": [
    {
     "data": {
      "text/plain": [
       "True"
      ]
     },
     "execution_count": 11,
     "metadata": {},
     "output_type": "execute_result"
    }
   ],
   "source": [
    "'Hello'.upper().isupper()"
   ]
  },
  {
   "cell_type": "code",
   "execution_count": 12,
   "id": "15e9f2c5",
   "metadata": {},
   "outputs": [
    {
     "data": {
      "text/plain": [
       "'hello'"
      ]
     },
     "execution_count": 12,
     "metadata": {},
     "output_type": "execute_result"
    }
   ],
   "source": [
    "'Hello'.upper().lower()"
   ]
  },
  {
   "cell_type": "code",
   "execution_count": null,
   "id": "92f1b514",
   "metadata": {},
   "outputs": [],
   "source": [
    "Q8. What are the values of the following expressions?"
   ]
  },
  {
   "cell_type": "code",
   "execution_count": 13,
   "id": "8154febe",
   "metadata": {},
   "outputs": [
    {
     "data": {
      "text/plain": [
       "['Remember,', 'remember,', 'the', 'fifth', 'of', 'July']"
      ]
     },
     "execution_count": 13,
     "metadata": {},
     "output_type": "execute_result"
    }
   ],
   "source": [
    "'Remember, remember, the fifth of July'.split()"
   ]
  },
  {
   "cell_type": "code",
   "execution_count": 14,
   "id": "6dc8b241",
   "metadata": {},
   "outputs": [
    {
     "data": {
      "text/plain": [
       "'There-can-only-one.'"
      ]
     },
     "execution_count": 14,
     "metadata": {},
     "output_type": "execute_result"
    }
   ],
   "source": [
    "'-'.join('There can only one.'.split())"
   ]
  },
  {
   "cell_type": "code",
   "execution_count": null,
   "id": "db912c8c",
   "metadata": {},
   "outputs": [],
   "source": [
    "Q9. What are the methods for right-justifying, left-justifying, and centering a string?"
   ]
  },
  {
   "cell_type": "code",
   "execution_count": null,
   "id": "6a38eeb3",
   "metadata": {},
   "outputs": [],
   "source": [
    "Right-Justify a String:\n",
    "To right-justify a string in Python, you can use the str.rjust() method or string formatting with the str.format() method."
   ]
  },
  {
   "cell_type": "code",
   "execution_count": null,
   "id": "23e84abd",
   "metadata": {},
   "outputs": [],
   "source": [
    "Left-Justify a String:\n",
    "To left-justify a string, you can use the str.ljust() method or string formatting with str.format()."
   ]
  },
  {
   "cell_type": "code",
   "execution_count": null,
   "id": "ae273604",
   "metadata": {},
   "outputs": [],
   "source": [
    "Center a String:\n",
    "To center a string, you can use the str.center() method or string formatting with str.format()."
   ]
  },
  {
   "cell_type": "code",
   "execution_count": null,
   "id": "aef2c57a",
   "metadata": {},
   "outputs": [],
   "source": []
  },
  {
   "cell_type": "code",
   "execution_count": null,
   "id": "00a28597",
   "metadata": {},
   "outputs": [],
   "source": [
    "Q10.What is the best way to remove whitespace characters from the start or end?"
   ]
  },
  {
   "cell_type": "code",
   "execution_count": null,
   "id": "5c56ca75",
   "metadata": {},
   "outputs": [],
   "source": [
    "str.strip(): This method removes leading and trailing whitespace characters from a string. By default, it removes spaces, tabs,\n",
    "and newline characters, but you can specify a custom set of characters to strip if needed."
   ]
  }
 ],
 "metadata": {
  "kernelspec": {
   "display_name": "Python 3 (ipykernel)",
   "language": "python",
   "name": "python3"
  },
  "language_info": {
   "codemirror_mode": {
    "name": "ipython",
    "version": 3
   },
   "file_extension": ".py",
   "mimetype": "text/x-python",
   "name": "python",
   "nbconvert_exporter": "python",
   "pygments_lexer": "ipython3",
   "version": "3.10.9"
  }
 },
 "nbformat": 4,
 "nbformat_minor": 5
}
