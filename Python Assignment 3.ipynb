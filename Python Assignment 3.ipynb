{
 "cells": [
  {
   "cell_type": "markdown",
   "id": "ed2607cd",
   "metadata": {},
   "source": [
    "1. Why are functions advantageous to have in your programs?"
   ]
  },
  {
   "cell_type": "code",
   "execution_count": null,
   "id": "0458d8a7",
   "metadata": {},
   "outputs": [],
   "source": [
    "Functions provide several advantages in programming:\n",
    "\n",
    "1.Modularity and Reusability\n",
    "2.Abstraction\n",
    "3.Organization\n",
    "4.Code Understandability\n",
    "5.Testing and Debugging \n",
    "6.Scoping"
   ]
  },
  {
   "cell_type": "markdown",
   "id": "a0931a47",
   "metadata": {},
   "source": [
    "2. When does the code in a function run: when it&#39;s specified or when it&#39;s called?"
   ]
  },
  {
   "cell_type": "code",
   "execution_count": null,
   "id": "a4e1f8af",
   "metadata": {},
   "outputs": [],
   "source": [
    "when it's called "
   ]
  },
  {
   "cell_type": "markdown",
   "id": "71133d3a",
   "metadata": {},
   "source": [
    "3. What statement creates a function?"
   ]
  },
  {
   "cell_type": "code",
   "execution_count": null,
   "id": "07ecc275",
   "metadata": {},
   "outputs": [],
   "source": [
    "the def() keyword created a function"
   ]
  },
  {
   "cell_type": "markdown",
   "id": "adb495be",
   "metadata": {},
   "source": [
    "4. What is the difference between a function and a function call?"
   ]
  },
  {
   "cell_type": "code",
   "execution_count": null,
   "id": "6de44474",
   "metadata": {},
   "outputs": [],
   "source": [
    "Function: A function is a block of organized, reusable code that performs a specific task. It typically takes inputs (arguments),\n",
    "    performs operations using those inputs, and produces an output (return value).\n",
    "\n",
    "\n",
    "Function Call: A function call is an instruction that tells the program to execute a specific function at a particular point in \n",
    "    the code. When you call a function, you are essentially asking the program to run the code inside that function's definition\n",
    "    with the provided arguments (if any)."
   ]
  },
  {
   "cell_type": "markdown",
   "id": "09e0cfcb",
   "metadata": {},
   "source": [
    "5. How many global scopes are there in a Python program? How many local scopes?"
   ]
  },
  {
   "cell_type": "code",
   "execution_count": null,
   "id": "4c85c8bc",
   "metadata": {},
   "outputs": [],
   "source": [
    "In a Python program, there is typically only one global scope and potentially multiple local scopes. "
   ]
  },
  {
   "cell_type": "markdown",
   "id": "bba98fd6",
   "metadata": {},
   "source": [
    "6. What happens to variables in a local scope when the function call returns?"
   ]
  },
  {
   "cell_type": "code",
   "execution_count": null,
   "id": "de970aec",
   "metadata": {},
   "outputs": [],
   "source": [
    "they cease to exist"
   ]
  },
  {
   "cell_type": "markdown",
   "id": "5b8dd7aa",
   "metadata": {},
   "source": [
    "7. What is the concept of a return value? Is it possible to have a return value in an expression?"
   ]
  },
  {
   "cell_type": "code",
   "execution_count": null,
   "id": "c8ed3ab1",
   "metadata": {},
   "outputs": [],
   "source": [
    "The concept of a return value in programming refers to the value that a function produces and sends back to the part of the\n",
    "program that called it. When a function completes its task, it can optionally return a value using the return statement. This \n",
    "return value allows the function to communicate results, computations, or data back to the caller."
   ]
  },
  {
   "cell_type": "markdown",
   "id": "78ad8354",
   "metadata": {},
   "source": [
    "8. If a function does not have a return statement, what is the return value of a call to that function?"
   ]
  },
  {
   "cell_type": "code",
   "execution_count": null,
   "id": "a99c1a8c",
   "metadata": {},
   "outputs": [],
   "source": [
    "If a function in Python does not have a return statement, the return value of a call to that function is None."
   ]
  },
  {
   "cell_type": "markdown",
   "id": "56c842d2",
   "metadata": {},
   "source": [
    "9. How do you make a function variable refer to the global variable?"
   ]
  },
  {
   "cell_type": "code",
   "execution_count": null,
   "id": "f3a220bc",
   "metadata": {},
   "outputs": [],
   "source": [
    "In Python, if you want to make a function variable refer to a global variable (i.e., access or modify a global variable from \n",
    "within a function), you can use the global keyword inside the function. This approach allows you to indicate that a variable \n",
    "should be treated as global, even if there's a local variable with the same name. "
   ]
  },
  {
   "cell_type": "markdown",
   "id": "c3f46af4",
   "metadata": {},
   "source": [
    "10. What is the data type of None?"
   ]
  },
  {
   "cell_type": "code",
   "execution_count": null,
   "id": "5f1172f5",
   "metadata": {},
   "outputs": [],
   "source": [
    "NoneType"
   ]
  },
  {
   "cell_type": "markdown",
   "id": "d1bdbfc4",
   "metadata": {},
   "source": [
    "11. What does the sentence import areallyourpetsnamederic do?"
   ]
  },
  {
   "cell_type": "code",
   "execution_count": null,
   "id": "b971b09f",
   "metadata": {},
   "outputs": [],
   "source": [
    "import areallyourpetsnamederic is syntactically incorrect in Python and will result in a ModuleNotFoundError because \n",
    "areallyourpetsnamederic is not a standard Python module, nor is it a module that exists in the Python ecosystem by default."
   ]
  },
  {
   "cell_type": "markdown",
   "id": "05953407",
   "metadata": {},
   "source": [
    "12. If you had a bacon() feature in a spam module, what would you call it after importing spam?"
   ]
  },
  {
   "cell_type": "code",
   "execution_count": null,
   "id": "4545261d",
   "metadata": {},
   "outputs": [],
   "source": [
    "After importing the spam module, if you want to use the bacon() function from that module, you would call it using dot notation\n",
    "\n",
    "spam.bacon()"
   ]
  },
  {
   "cell_type": "markdown",
   "id": "f555c986",
   "metadata": {},
   "source": [
    "13. What can you do to save a programme from crashing if it encounters an error?"
   ]
  },
  {
   "cell_type": "code",
   "execution_count": null,
   "id": "14ef407c",
   "metadata": {},
   "outputs": [],
   "source": [
    "ensure you use exception handling while creating the program"
   ]
  },
  {
   "cell_type": "markdown",
   "id": "fea6928b",
   "metadata": {},
   "source": [
    "14. What is the purpose of the try clause? What is the purpose of the except clause?"
   ]
  },
  {
   "cell_type": "code",
   "execution_count": null,
   "id": "edf9fbe3",
   "metadata": {},
   "outputs": [],
   "source": [
    "The try clause is used to enclose the code that might potentially raise an exception. Its main purpose is to define a block of \n",
    "code where exceptions may occur, allowing you to gracefully handle these exceptions without abruptly terminating the program.\n",
    "\n",
    "The except clause immediately follows the try block and specifies the type of exception it can handle and the code to execute\n",
    "when that exception occurs."
   ]
  },
  {
   "cell_type": "code",
   "execution_count": null,
   "id": "6fc47a5e",
   "metadata": {},
   "outputs": [],
   "source": []
  }
 ],
 "metadata": {
  "kernelspec": {
   "display_name": "Python 3 (ipykernel)",
   "language": "python",
   "name": "python3"
  },
  "language_info": {
   "codemirror_mode": {
    "name": "ipython",
    "version": 3
   },
   "file_extension": ".py",
   "mimetype": "text/x-python",
   "name": "python",
   "nbconvert_exporter": "python",
   "pygments_lexer": "ipython3",
   "version": "3.10.9"
  }
 },
 "nbformat": 4,
 "nbformat_minor": 5
}
