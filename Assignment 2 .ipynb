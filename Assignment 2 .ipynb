{
 "cells": [
  {
   "cell_type": "code",
   "execution_count": null,
   "id": "807dacb1",
   "metadata": {},
   "outputs": [],
   "source": [
    "Q1. what are the values of the boolean data type ? how do you write them ? \n",
    "Ans. \n",
    "There are two boolean values, True and False. Values in Python can be compared using comparison operations, and Boolean \n",
    "logic can be formulated with the use of logic operations."
   ]
  },
  {
   "cell_type": "code",
   "execution_count": null,
   "id": "26f00a5c",
   "metadata": {},
   "outputs": [],
   "source": [
    "Q2. \n",
    "three different types of boolean operators are AND, OR, NOT"
   ]
  },
  {
   "cell_type": "code",
   "execution_count": null,
   "id": "d57311fc",
   "metadata": {},
   "outputs": [],
   "source": [
    "Q3.\n",
    "True and True is True.\n",
    "\n",
    "True and False is False.\n",
    "\n",
    "False and True is False.\n",
    "\n",
    "False and False is False.\n",
    "\n",
    "True or True is True.\n",
    "\n",
    "True or False is True.\n",
    "\n",
    "False or True is True.\n",
    "\n",
    "False or False is False.\n",
    "\n",
    "not True is False.\n",
    "\n",
    "not False is True.\n",
    "\n",
    "True is 1 and False is 0\n",
    "Truth Table for AND\n",
    "A B output\n",
    "0 0 0\n",
    "0 1 0\n",
    "1 0 0\n",
    "1 1 1\n",
    "Truth Table for OR\n",
    "A B output\n",
    "0 0 0\n",
    "0 1 1\n",
    "1 0 1\n",
    "1 1 1\n",
    "Truth Table for NOT\n",
    "A output\n",
    "0 1\n",
    "1 0"
   ]
  },
  {
   "cell_type": "code",
   "execution_count": null,
   "id": "4f1960be",
   "metadata": {},
   "outputs": [],
   "source": [
    "Q4. \n",
    "1.False\n",
    "2.False \n",
    "3.True\n",
    "4.False\n",
    "5.False\n",
    "6.True"
   ]
  },
  {
   "cell_type": "code",
   "execution_count": null,
   "id": "42a03df5",
   "metadata": {},
   "outputs": [],
   "source": [
    "Q5. \n",
    "1. less than ( < )\n",
    "2. less than equal to ( <= ) \n",
    "3. greater than ( > )\n",
    "4. greater than equal to ( => ) \n",
    "5. equal to ( == )\n",
    "6. not equal to (!= ) "
   ]
  },
  {
   "cell_type": "code",
   "execution_count": null,
   "id": "a05e5af2",
   "metadata": {},
   "outputs": [],
   "source": [
    "Q6.== is the equal to operator that compares two values and evaluates to a Boolean, \n",
    "while = is the assignment operator that stores a value in a variable."
   ]
  },
  {
   "cell_type": "code",
   "execution_count": null,
   "id": "34f0cd24",
   "metadata": {},
   "outputs": [],
   "source": [
    "# Equal To Operator\n",
    "if(2==3):\n",
    "    print(\"True\")\n",
    "else:\n",
    "    print(\"False\")\n",
    "#Assignment operator\n",
    "c=1 #here we have used assignment operator(=) to assign value of c which is 1\n",
    "print(\"c =\",c)"
   ]
  },
  {
   "cell_type": "code",
   "execution_count": null,
   "id": "db77cf0c",
   "metadata": {},
   "outputs": [],
   "source": [
    "Q7. \n",
    "spam = 0\n",
    "if spam == 10:\n",
    "    print('eggs') #Block 1\n",
    "if spam > 5:\n",
    "    print('bacon') #Block 2\n",
    "else:\n",
    "    print('ham') #Block 3\n",
    "    print('spam')\n",
    "    print('spam')\n"
   ]
  },
  {
   "cell_type": "code",
   "execution_count": null,
   "id": "3ccaf6da",
   "metadata": {},
   "outputs": [],
   "source": [
    "Q8."
   ]
  },
  {
   "cell_type": "code",
   "execution_count": 2,
   "id": "af471697",
   "metadata": {},
   "outputs": [
    {
     "name": "stdout",
     "output_type": "stream",
     "text": [
      "Howdy\n"
     ]
    }
   ],
   "source": [
    "spam = 2\n",
    "if spam ==1 : \n",
    "    print(\"Hello\")\n",
    "elif spam == 2 : \n",
    "    print(\"Howdy\") \n",
    "else :\n",
    "    print(\"Greetings!\")"
   ]
  },
  {
   "cell_type": "code",
   "execution_count": null,
   "id": "6d7c188b",
   "metadata": {},
   "outputs": [],
   "source": [
    "Q9 \n",
    "Ctrl + C"
   ]
  },
  {
   "cell_type": "code",
   "execution_count": null,
   "id": "3eb90371",
   "metadata": {},
   "outputs": [],
   "source": [
    "Q10The break statement will move the execution outside and just after a loop.\n",
    "The continue statement will move the execution to the start of the loop."
   ]
  },
  {
   "cell_type": "code",
   "execution_count": null,
   "id": "0385748d",
   "metadata": {},
   "outputs": [],
   "source": [
    "# use of break\n",
    "for i in range(10):\n",
    "    if(i==7):\n",
    "        break\n",
    "    print(i)\n",
    "    \n",
    "print('Broken')\n",
    "#use of  continue\n",
    "for i in range(10):\n",
    "    if(i==7):\n",
    "        continue\n",
    "    print(i)"
   ]
  },
  {
   "cell_type": "code",
   "execution_count": null,
   "id": "1ea45f82",
   "metadata": {},
   "outputs": [],
   "source": [
    "Q11"
   ]
  },
  {
   "cell_type": "code",
   "execution_count": 3,
   "id": "1aa110a5",
   "metadata": {},
   "outputs": [
    {
     "name": "stdout",
     "output_type": "stream",
     "text": [
      "0\n",
      "1\n",
      "2\n",
      "3\n",
      "4\n",
      "5\n",
      "6\n",
      "7\n",
      "8\n",
      "9\n",
      "--------------------\n",
      "0\n",
      "1\n",
      "2\n",
      "3\n",
      "4\n",
      "5\n",
      "6\n",
      "7\n",
      "8\n",
      "9\n",
      "--------------------\n",
      "0\n",
      "1\n",
      "2\n",
      "3\n",
      "4\n",
      "5\n",
      "6\n",
      "7\n",
      "8\n",
      "9\n"
     ]
    }
   ],
   "source": [
    "for i in range(10):\n",
    "    print(i)\n",
    "print(\"--------------------\") \n",
    "for i in range(0,10):\n",
    "    print(i)\n",
    "print(\"--------------------\")\n",
    "for i in range(0,10,1):\n",
    "    print(i)"
   ]
  },
  {
   "cell_type": "code",
   "execution_count": null,
   "id": "fdc8c97d",
   "metadata": {},
   "outputs": [],
   "source": [
    "Q12"
   ]
  },
  {
   "cell_type": "code",
   "execution_count": 22,
   "id": "c8267d47",
   "metadata": {},
   "outputs": [
    {
     "name": "stdout",
     "output_type": "stream",
     "text": [
      "1\n",
      "2\n",
      "3\n",
      "4\n",
      "5\n",
      "6\n",
      "7\n",
      "8\n",
      "9\n",
      "10\n"
     ]
    }
   ],
   "source": [
    "a = 0 \n",
    "while a <= 9 : \n",
    "    a = a+1 \n",
    "    print(a)\n",
    "     "
   ]
  },
  {
   "cell_type": "code",
   "execution_count": 24,
   "id": "a3cdea71",
   "metadata": {},
   "outputs": [
    {
     "name": "stdout",
     "output_type": "stream",
     "text": [
      "1\n",
      "2\n",
      "3\n",
      "4\n",
      "5\n",
      "6\n",
      "7\n",
      "8\n",
      "9\n",
      "10\n"
     ]
    }
   ],
   "source": [
    "for a in range (1,11) :\n",
    "    print(a)"
   ]
  },
  {
   "cell_type": "code",
   "execution_count": null,
   "id": "25fe0e84",
   "metadata": {},
   "outputs": [],
   "source": [
    "Q13 \n",
    "from spam import bacon \n",
    "bacon()"
   ]
  }
 ],
 "metadata": {
  "kernelspec": {
   "display_name": "Python 3 (ipykernel)",
   "language": "python",
   "name": "python3"
  },
  "language_info": {
   "codemirror_mode": {
    "name": "ipython",
    "version": 3
   },
   "file_extension": ".py",
   "mimetype": "text/x-python",
   "name": "python",
   "nbconvert_exporter": "python",
   "pygments_lexer": "ipython3",
   "version": "3.9.12"
  }
 },
 "nbformat": 4,
 "nbformat_minor": 5
}
