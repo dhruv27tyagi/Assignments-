{
 "cells": [
  {
   "cell_type": "markdown",
   "id": "f696a789",
   "metadata": {},
   "source": [
    "1. To what does a relative path refer?"
   ]
  },
  {
   "cell_type": "markdown",
   "id": "85435701",
   "metadata": {},
   "source": [
    "A relative path refers to a file or directory location that is relative to the current working directory or another specified \n",
    "directory instead of being defined from the root directory. It describes the location of a file or directory in relation to \n",
    "another location, typically the current directory or the directory structure of a project.\n",
    "\n",
    "Relative paths are useful because they allow for flexibility and portability. They can adapt to different directory structures \n",
    "without needing to specify the complete path from the root directory. This makes it easier to move files or projects between\n",
    "different directories or servers without breaking links or references."
   ]
  },
  {
   "cell_type": "markdown",
   "id": "4b8f3afd",
   "metadata": {},
   "source": [
    "2. What does an absolute path start with your operating system?"
   ]
  },
  {
   "cell_type": "markdown",
   "id": "716cf7d8",
   "metadata": {},
   "source": [
    "In the Windows operating system, an absolute path starts with a drive letter followed by a colon (:) and then a backslash (\\)."
   ]
  },
  {
   "cell_type": "markdown",
   "id": "5f61f32e",
   "metadata": {},
   "source": [
    "3. What do the functions os.getcwd() and os.chdir() do?"
   ]
  },
  {
   "cell_type": "markdown",
   "id": "e7738650",
   "metadata": {},
   "source": [
    "In Python, the functions os.getcwd() and os.chdir() are part of the os module, which provides a way to interact with the\n",
    "operating system's file system.\n",
    "\n",
    "os.getcwd():\n",
    "\n",
    "This function returns the current working directory as a string.\n",
    "\n",
    "os.chdir(path):\n",
    "\n",
    "This function changes the current working directory to the specified path."
   ]
  },
  {
   "cell_type": "markdown",
   "id": "399134dd",
   "metadata": {},
   "source": [
    "4. What are the . and .. folders?"
   ]
  },
  {
   "cell_type": "code",
   "execution_count": null,
   "id": "bd941adc",
   "metadata": {},
   "outputs": [],
   "source": [
    "The single dot . represents the current directory\n",
    "\n",
    "The double dot .. represents the parent directory."
   ]
  },
  {
   "cell_type": "markdown",
   "id": "5a3cf8f7",
   "metadata": {},
   "source": [
    "In C:\\bacon\\eggs\\spam.txt, which part is the dir name, and which part is the base name?"
   ]
  },
  {
   "cell_type": "code",
   "execution_count": null,
   "id": "ca0023f8",
   "metadata": {},
   "outputs": [],
   "source": [
    "Directory Name: C:\\bacon\\eggs\n",
    "        \n",
    "Base Name: spam.txt"
   ]
  },
  {
   "cell_type": "markdown",
   "id": "5736aafc",
   "metadata": {},
   "source": [
    "6. What are the three “mode” arguments that can be passed to the open() function?"
   ]
  },
  {
   "cell_type": "code",
   "execution_count": null,
   "id": "8f6b501f",
   "metadata": {},
   "outputs": [],
   "source": [
    "Read, Write and Append "
   ]
  },
  {
   "cell_type": "markdown",
   "id": "ed176b95",
   "metadata": {},
   "source": [
    "7. What happens if an existing file is opened in write mode?"
   ]
  },
  {
   "cell_type": "code",
   "execution_count": null,
   "id": "ab0d6cb2",
   "metadata": {},
   "outputs": [],
   "source": [
    "opening an existing file in write mode ('w') in Python effectively truncates the file and prepares it for writing new data, \n",
    "starting from an empty file state if it already exists."
   ]
  },
  {
   "cell_type": "markdown",
   "id": "f08bdb03",
   "metadata": {},
   "source": [
    "8. How do you tell the difference between read() and readlines()?"
   ]
  },
  {
   "cell_type": "code",
   "execution_count": null,
   "id": "43d5c479",
   "metadata": {},
   "outputs": [],
   "source": [
    "read() returns a single string containing the entire content of the file.\n",
    "readlines() returns a list where each element is a string representing a line from the file.\n",
    "\n",
    "Use read() when you want to work with the entire content of the file as a single string.\n",
    "Use readlines() when you want to process each line of the file individually, for example, to iterate over lines or perform \n",
    "line-based operations.\n",
    "\n",
    "read() may not be efficient for very large files because it reads everything into memory at once.\n",
    "readlines() is more memory-efficient for large files since it reads lines one by one."
   ]
  },
  {
   "cell_type": "markdown",
   "id": "8a461704",
   "metadata": {},
   "source": [
    "What data structure does a shelf value resemble?"
   ]
  },
  {
   "cell_type": "code",
   "execution_count": null,
   "id": "3a39a876",
   "metadata": {},
   "outputs": [],
   "source": [
    "Therefore, a shelf value in Python resembles a dictionary in its usage and behavior but differs in that it provides persistent \n",
    "storage by saving its contents to a disk file."
   ]
  }
 ],
 "metadata": {
  "kernelspec": {
   "display_name": "Python 3 (ipykernel)",
   "language": "python",
   "name": "python3"
  },
  "language_info": {
   "codemirror_mode": {
    "name": "ipython",
    "version": 3
   },
   "file_extension": ".py",
   "mimetype": "text/x-python",
   "name": "python",
   "nbconvert_exporter": "python",
   "pygments_lexer": "ipython3",
   "version": "3.10.9"
  }
 },
 "nbformat": 4,
 "nbformat_minor": 5
}
