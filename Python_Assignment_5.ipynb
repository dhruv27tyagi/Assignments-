{
 "cells": [
  {
   "cell_type": "code",
   "execution_count": null,
   "id": "86032556",
   "metadata": {},
   "outputs": [],
   "source": [
    "Q. What does an empty dictionary code look like"
   ]
  },
  {
   "cell_type": "code",
   "execution_count": 1,
   "id": "589e18dd",
   "metadata": {},
   "outputs": [],
   "source": [
    "empty_dic = {}"
   ]
  },
  {
   "cell_type": "code",
   "execution_count": 3,
   "id": "d882dbb9",
   "metadata": {},
   "outputs": [
    {
     "data": {
      "text/plain": [
       "dict"
      ]
     },
     "execution_count": 3,
     "metadata": {},
     "output_type": "execute_result"
    }
   ],
   "source": [
    "type(empty_dic)"
   ]
  },
  {
   "cell_type": "code",
   "execution_count": null,
   "id": "27364ef2",
   "metadata": {},
   "outputs": [],
   "source": [
    "Q2. What is the value of a dictionary with the key 'foo' and the value 42 ? "
   ]
  },
  {
   "cell_type": "code",
   "execution_count": 8,
   "id": "5c0e590d",
   "metadata": {},
   "outputs": [],
   "source": [
    "dic = {'foo': 42}"
   ]
  },
  {
   "cell_type": "code",
   "execution_count": 9,
   "id": "bbe148fc",
   "metadata": {},
   "outputs": [
    {
     "data": {
      "text/plain": [
       "{'foo': 42}"
      ]
     },
     "execution_count": 9,
     "metadata": {},
     "output_type": "execute_result"
    }
   ],
   "source": [
    "dic"
   ]
  },
  {
   "cell_type": "code",
   "execution_count": 10,
   "id": "dd2506c4",
   "metadata": {},
   "outputs": [
    {
     "name": "stdout",
     "output_type": "stream",
     "text": [
      "42\n"
     ]
    }
   ],
   "source": [
    "value = dic['foo']\n",
    "print(value)"
   ]
  },
  {
   "cell_type": "code",
   "execution_count": null,
   "id": "f35c6979",
   "metadata": {},
   "outputs": [],
   "source": [
    "Q3. What is the most significant distinction between a dictionary and a list? "
   ]
  },
  {
   "cell_type": "code",
   "execution_count": null,
   "id": "5439836a",
   "metadata": {},
   "outputs": [],
   "source": [
    "while lists are ordered collections accessed by index, dictionaries are unordered collections accessed by keys. \n",
    "Dictionaries are particularly useful when you need to associate values with meaningful identifiers (keys) rather than \n",
    "relying on numeric positions."
   ]
  },
  {
   "cell_type": "code",
   "execution_count": null,
   "id": "96191de7",
   "metadata": {},
   "outputs": [],
   "source": []
  },
  {
   "cell_type": "code",
   "execution_count": null,
   "id": "db7ac4fb",
   "metadata": {},
   "outputs": [],
   "source": [
    "Q4. What happens if you try to access spam['foo'] if spam is {'bar': 100}?"
   ]
  },
  {
   "cell_type": "code",
   "execution_count": 11,
   "id": "06941f7f",
   "metadata": {},
   "outputs": [],
   "source": [
    "spam = {'bar': 100}"
   ]
  },
  {
   "cell_type": "code",
   "execution_count": 12,
   "id": "edc11d67",
   "metadata": {},
   "outputs": [
    {
     "ename": "KeyError",
     "evalue": "'foo'",
     "output_type": "error",
     "traceback": [
      "\u001b[1;31m---------------------------------------------------------------------------\u001b[0m",
      "\u001b[1;31mKeyError\u001b[0m                                  Traceback (most recent call last)",
      "Cell \u001b[1;32mIn[12], line 1\u001b[0m\n\u001b[1;32m----> 1\u001b[0m \u001b[43mspam\u001b[49m\u001b[43m[\u001b[49m\u001b[38;5;124;43m'\u001b[39;49m\u001b[38;5;124;43mfoo\u001b[39;49m\u001b[38;5;124;43m'\u001b[39;49m\u001b[43m]\u001b[49m\n",
      "\u001b[1;31mKeyError\u001b[0m: 'foo'"
     ]
    }
   ],
   "source": [
    "spam['foo']"
   ]
  },
  {
   "cell_type": "code",
   "execution_count": null,
   "id": "31cd6b9e",
   "metadata": {},
   "outputs": [],
   "source": [
    "we receive a key error because 'foo' key does not exist inside spam dictionary"
   ]
  },
  {
   "cell_type": "code",
   "execution_count": null,
   "id": "a356937f",
   "metadata": {},
   "outputs": [],
   "source": []
  },
  {
   "cell_type": "code",
   "execution_count": null,
   "id": "acb97318",
   "metadata": {},
   "outputs": [],
   "source": [
    "Q5. If a dictionary is stored in spam, what is the difference between the expressions 'cat' in spam and\n",
    "'cat' in spam.keys()?"
   ]
  },
  {
   "cell_type": "code",
   "execution_count": null,
   "id": "1fc8ebb4",
   "metadata": {},
   "outputs": [],
   "source": [
    "'cat' in spam:\n",
    "\n",
    "This expression checks if the key 'cat' is present in the dictionary spam. If the key exists in the dictionary, it will return\n",
    "True; otherwise, it will return False.\n",
    "It directly checks the keys of the dictionary without needing to explicitly call keys(). In Python, when you use the in operator\n",
    "with a dictionary, it checks for the presence of the key, not the values.\n",
    "\n",
    "\n",
    "'cat' in spam.keys():\n",
    "\n",
    "This expression explicitly retrieves the dictionary's keys using the keys() method and then checks if the key 'cat' is present \n",
    "among those keys.\n",
    "It has the same behavior as 'cat' in spam, as it checks for the presence of the key 'cat' in the keys of the dictionary."
   ]
  },
  {
   "cell_type": "code",
   "execution_count": null,
   "id": "f469d188",
   "metadata": {},
   "outputs": [],
   "source": []
  },
  {
   "cell_type": "code",
   "execution_count": null,
   "id": "952d7cde",
   "metadata": {},
   "outputs": [],
   "source": [
    "Q6. If a dictionary is stored in spam, what is the difference between the expressions 'cat' in spam and\n",
    "'cat' in spam.values()?"
   ]
  },
  {
   "cell_type": "code",
   "execution_count": null,
   "id": "2f8daf34",
   "metadata": {},
   "outputs": [],
   "source": [
    " the difference between the two expressions lies in what they are checking for:\n",
    "\n",
    "'cat' in spam checks if 'cat' is a key in the dictionary spam.\n",
    "'cat' in spam.values() checks if 'cat' is a value in the dictionary spam"
   ]
  },
  {
   "cell_type": "code",
   "execution_count": null,
   "id": "ba7bcc3f",
   "metadata": {},
   "outputs": [],
   "source": []
  },
  {
   "cell_type": "code",
   "execution_count": null,
   "id": "70b000ca",
   "metadata": {},
   "outputs": [],
   "source": [
    "Q7. \n",
    "What is a shortcut for the following code?\n",
    "if 'color' not in spam:\n",
    "spam['color'] = 'black'"
   ]
  },
  {
   "cell_type": "code",
   "execution_count": null,
   "id": "7165dc85",
   "metadata": {},
   "outputs": [],
   "source": [
    "spam.setdefault('color', 'black')"
   ]
  },
  {
   "cell_type": "code",
   "execution_count": null,
   "id": "0f7c8cdb",
   "metadata": {},
   "outputs": [],
   "source": []
  },
  {
   "cell_type": "code",
   "execution_count": null,
   "id": "ab3ee6c7",
   "metadata": {},
   "outputs": [],
   "source": [
    "Q8. How do you 'pretty print' dictionary values using which module and function?"
   ]
  },
  {
   "cell_type": "code",
   "execution_count": null,
   "id": "59e19f41",
   "metadata": {},
   "outputs": [],
   "source": [
    "To \"pretty print\" dictionary values in Python, you can use the json module's dumps() function with the indent parameter. \n",
    "This makes the output more human-readable by formatting the dictionary with proper indentation"
   ]
  },
  {
   "cell_type": "code",
   "execution_count": null,
   "id": "c2fbb4f5",
   "metadata": {},
   "outputs": [],
   "source": []
  },
  {
   "cell_type": "code",
   "execution_count": null,
   "id": "a6f51e73",
   "metadata": {},
   "outputs": [],
   "source": []
  },
  {
   "cell_type": "code",
   "execution_count": null,
   "id": "594ce6ae",
   "metadata": {},
   "outputs": [],
   "source": []
  },
  {
   "cell_type": "code",
   "execution_count": null,
   "id": "12176ae4",
   "metadata": {},
   "outputs": [],
   "source": []
  },
  {
   "cell_type": "code",
   "execution_count": null,
   "id": "d12305b5",
   "metadata": {},
   "outputs": [],
   "source": []
  },
  {
   "cell_type": "code",
   "execution_count": null,
   "id": "c644daf8",
   "metadata": {},
   "outputs": [],
   "source": []
  },
  {
   "cell_type": "code",
   "execution_count": null,
   "id": "37da3b3f",
   "metadata": {},
   "outputs": [],
   "source": []
  }
 ],
 "metadata": {
  "kernelspec": {
   "display_name": "Python 3 (ipykernel)",
   "language": "python",
   "name": "python3"
  },
  "language_info": {
   "codemirror_mode": {
    "name": "ipython",
    "version": 3
   },
   "file_extension": ".py",
   "mimetype": "text/x-python",
   "name": "python",
   "nbconvert_exporter": "python",
   "pygments_lexer": "ipython3",
   "version": "3.10.9"
  }
 },
 "nbformat": 4,
 "nbformat_minor": 5
}
