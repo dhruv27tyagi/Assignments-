{
 "cells": [
  {
   "cell_type": "code",
   "execution_count": null,
   "id": "658e20c9",
   "metadata": {},
   "outputs": [],
   "source": [
    "Q1."
   ]
  },
  {
   "cell_type": "code",
   "execution_count": 1,
   "id": "e3de65bd",
   "metadata": {},
   "outputs": [
    {
     "name": "stdout",
     "output_type": "stream",
     "text": [
      "LCM of 12 and 18 is 36\n"
     ]
    }
   ],
   "source": [
    "def gcd(a, b):\n",
    "    \"\"\"\n",
    "    Returns the greatest common divisor (GCD) of two integers using the Euclidean algorithm.\n",
    "    \"\"\"\n",
    "    if b == 0:\n",
    "        return a\n",
    "    return gcd(b, a % b)\n",
    "\n",
    "def lcm(a, b):\n",
    "    \"\"\"\n",
    "    Returns the least common multiple (LCM) of two integers using the formula LCM(a, b) = |a*b| / GCD(a, b).\n",
    "    \"\"\"\n",
    "    return abs(a*b) // gcd(a, b)\n",
    "\n",
    "\n",
    "num1 = 12\n",
    "num2 = 18\n",
    "result = lcm(num1, num2)\n",
    "print(f\"LCM of {num1} and {num2} is {result}\")"
   ]
  },
  {
   "cell_type": "code",
   "execution_count": null,
   "id": "118e0228",
   "metadata": {},
   "outputs": [],
   "source": [
    "Q2. "
   ]
  },
  {
   "cell_type": "code",
   "execution_count": 2,
   "id": "1eb6a591",
   "metadata": {},
   "outputs": [
    {
     "name": "stdout",
     "output_type": "stream",
     "text": [
      "HCF of 12 and 18 is 6\n"
     ]
    }
   ],
   "source": [
    "def gcd(a, b):\n",
    "    \"\"\"\n",
    "    Returns the greatest common divisor (GCD) of two integers using the Euclidean algorithm.\n",
    "    \"\"\"\n",
    "    if b == 0:\n",
    "        return a\n",
    "    return gcd(b, a % b)\n",
    "\n",
    "# Example\n",
    "num1 = 12\n",
    "num2 = 18\n",
    "result = gcd(num1, num2)\n",
    "print(f\"HCF of {num1} and {num2} is {result}\")"
   ]
  },
  {
   "cell_type": "code",
   "execution_count": null,
   "id": "cf53c8b5",
   "metadata": {},
   "outputs": [],
   "source": [
    "Q3."
   ]
  },
  {
   "cell_type": "code",
   "execution_count": 7,
   "id": "2ebcfba9",
   "metadata": {},
   "outputs": [
    {
     "name": "stdout",
     "output_type": "stream",
     "text": [
      "Enter a decimal number: 5.2\n",
      "Binary equivalent: 101\n",
      "Octal equivalent: 5\n",
      "Hexadecimal equivalent: 5\n"
     ]
    }
   ],
   "source": [
    "decimal = float(input(\"Enter a decimal number: \"))\n",
    "\n",
    "# Convert the decimal number to an integer\n",
    "integer = int(decimal)\n",
    "\n",
    "# Convert the integer to binary, octal, and hexadecimal\n",
    "binary = bin(integer)[2:]\n",
    "octal = oct(integer)[2:]\n",
    "hexadecimal = hex(integer)[2:]\n",
    "\n",
    "print(f\"Binary equivalent: {binary}\")\n",
    "print(f\"Octal equivalent: {octal}\")\n",
    "print(f\"Hexadecimal equivalent: {hexadecimal}\")"
   ]
  },
  {
   "cell_type": "code",
   "execution_count": null,
   "id": "aa6a3537",
   "metadata": {},
   "outputs": [],
   "source": [
    "Q4."
   ]
  },
  {
   "cell_type": "code",
   "execution_count": 8,
   "id": "d4bf327d",
   "metadata": {},
   "outputs": [
    {
     "name": "stdout",
     "output_type": "stream",
     "text": [
      "Enter a character: B\n",
      "The ASCII value of B is 66\n"
     ]
    }
   ],
   "source": [
    "\n",
    "char = input(\"Enter a character: \")\n",
    "\n",
    "# Find the ASCII value of the character\n",
    "ascii_value = ord(char)\n",
    "\n",
    "# Print the ASCII value\n",
    "print(f\"The ASCII value of {char} is {ascii_value}\")"
   ]
  },
  {
   "cell_type": "code",
   "execution_count": null,
   "id": "9b18f0d1",
   "metadata": {},
   "outputs": [],
   "source": [
    "Q5. "
   ]
  },
  {
   "cell_type": "code",
   "execution_count": 9,
   "id": "77b38d12",
   "metadata": {},
   "outputs": [
    {
     "name": "stdout",
     "output_type": "stream",
     "text": [
      "Enter the first number: 5\n",
      "Enter the second number: 10\n",
      "Select operation:\n",
      "1. Add\n",
      "2. Subtract\n",
      "3. Multiply\n",
      "4. Divide\n",
      "Enter your choice (1-4): 1\n",
      "5.0 + 10.0 = 15.0\n"
     ]
    }
   ],
   "source": [
    "# Define a function to add two numbers\n",
    "def add(num1, num2):\n",
    "    return num1 + num2\n",
    "\n",
    "# Define a function to subtract two numbers\n",
    "def subtract(num1, num2):\n",
    "    return num1 - num2\n",
    "\n",
    "# Define a function to multiply two numbers\n",
    "def multiply(num1, num2):\n",
    "    return num1 * num2\n",
    "\n",
    "# Define a function to divide two numbers\n",
    "def divide(num1, num2):\n",
    "    return num1 / num2\n",
    "\n",
    "# Take input from the user\n",
    "num1 = float(input(\"Enter the first number: \"))\n",
    "num2 = float(input(\"Enter the second number: \"))\n",
    "\n",
    "# Display the menu of operations to the user\n",
    "print(\"Select operation:\")\n",
    "print(\"1. Add\")\n",
    "print(\"2. Subtract\")\n",
    "print(\"3. Multiply\")\n",
    "print(\"4. Divide\")\n",
    "\n",
    "# Take input from the user to choose the operation\n",
    "choice = int(input(\"Enter your choice (1-4): \"))\n",
    "\n",
    "# Perform the chosen operation and display the result\n",
    "if choice == 1:\n",
    "    result = add(num1, num2)\n",
    "    print(f\"{num1} + {num2} = {result}\")\n",
    "elif choice == 2:\n",
    "    result = subtract(num1, num2)\n",
    "    print(f\"{num1} - {num2} = {result}\")\n",
    "elif choice == 3:\n",
    "    result = multiply(num1, num2)\n",
    "    print(f\"{num1} * {num2} = {result}\")\n",
    "elif choice == 4:\n",
    "    result = divide(num1, num2)\n",
    "    print(f\"{num1} / {num2} = {result}\")\n",
    "else:\n",
    "    print(\"Invalid input\")"
   ]
  },
  {
   "cell_type": "code",
   "execution_count": null,
   "id": "78ebdd92",
   "metadata": {},
   "outputs": [],
   "source": []
  },
  {
   "cell_type": "code",
   "execution_count": null,
   "id": "bc030d9c",
   "metadata": {},
   "outputs": [],
   "source": []
  },
  {
   "cell_type": "code",
   "execution_count": null,
   "id": "0f4f5a61",
   "metadata": {},
   "outputs": [],
   "source": []
  }
 ],
 "metadata": {
  "kernelspec": {
   "display_name": "Python 3 (ipykernel)",
   "language": "python",
   "name": "python3"
  },
  "language_info": {
   "codemirror_mode": {
    "name": "ipython",
    "version": 3
   },
   "file_extension": ".py",
   "mimetype": "text/x-python",
   "name": "python",
   "nbconvert_exporter": "python",
   "pygments_lexer": "ipython3",
   "version": "3.10.9"
  }
 },
 "nbformat": 4,
 "nbformat_minor": 5
}
