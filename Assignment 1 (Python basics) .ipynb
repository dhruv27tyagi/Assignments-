{
 "cells": [
  {
   "cell_type": "code",
   "execution_count": null,
   "id": "bd5a4a89",
   "metadata": {},
   "outputs": [],
   "source": [
    "Q1. \n",
    "* - expression\n",
    "'hello' - value\n",
    "-87.8 - value\n",
    "- , / , + - expression \n",
    "6 - value \n"
   ]
  },
  {
   "cell_type": "code",
   "execution_count": null,
   "id": "9f15039c",
   "metadata": {},
   "outputs": [],
   "source": [
    "Q2. \n",
    "Strings is a data type for a a sequence of characters (e.g. ‘’zaldnQfYJSMfwp”). In addition to letters,\n",
    "they can also include numbers, spaces, punctuation, and even line breaks (using ‘\\n’ for new line).\n",
    "Strings can not be used for calculation (even if your string is just a number like ‘5’), you would have to convert it to \n",
    "a number data type first to perform math operations on it.\\\n",
    "\n",
    "Variables are references that you create to refer to other values in your program later. A variable can store everything \n",
    "from strings to numbers"
   ]
  },
  {
   "cell_type": "code",
   "execution_count": 1,
   "id": "dbe06a8b",
   "metadata": {},
   "outputs": [
    {
     "ename": "SyntaxError",
     "evalue": "invalid syntax (3803231762.py, line 1)",
     "output_type": "error",
     "traceback": [
      "\u001b[1;36m  Input \u001b[1;32mIn [1]\u001b[1;36m\u001b[0m\n\u001b[1;33m    Standard built in data types of python -\u001b[0m\n\u001b[1;37m             ^\u001b[0m\n\u001b[1;31mSyntaxError\u001b[0m\u001b[1;31m:\u001b[0m invalid syntax\n"
     ]
    }
   ],
   "source": [
    "3 Standard built in data types of python - \n",
    "1. Numeric - \n",
    "In Python, numeric data type represent the data which has numeric value. Numeric value can be integer, \n",
    "floating number or even complex numbers. These values are defined as int, float and complex class in Python.\n",
    "\n",
    "\n",
    "2. Set - \n",
    "In Python, Set is an unordered collection of data type that is iterable, mutable and has no duplicate elements.\n",
    "The order of elements in a set is undefined though it may consist of various elements.\n",
    "\n",
    "3.Boolean - \n",
    "Data type with one of the two built-in values, True or False. Non-Boolean objects can be evaluated in Boolean context\n",
    "as well and determined to be true or false. It is denoted by the class bool.\n",
    "\n",
    " "
   ]
  },
  {
   "cell_type": "code",
   "execution_count": null,
   "id": "4c25399a",
   "metadata": {},
   "outputs": [],
   "source": [
    "Q4. \n",
    "An expression is a combination of operators and operands that is interpreted to produce some other value."
   ]
  },
  {
   "cell_type": "code",
   "execution_count": null,
   "id": "f32b71b8",
   "metadata": {},
   "outputs": [],
   "source": [
    "Q5.\n",
    "An Expression always evaluates to a value. And, A statement does something, like creating a variable or displaying a value,\n",
    "it only does whatever the statement says."
   ]
  },
  {
   "cell_type": "code",
   "execution_count": null,
   "id": "ddb334b6",
   "metadata": {},
   "outputs": [],
   "source": [
    "Q6. \n",
    "     22 "
   ]
  },
  {
   "cell_type": "code",
   "execution_count": 2,
   "id": "beca15b0",
   "metadata": {},
   "outputs": [
    {
     "data": {
      "text/plain": [
       "'spamspamspam'"
      ]
     },
     "execution_count": 2,
     "metadata": {},
     "output_type": "execute_result"
    }
   ],
   "source": [
    "Q7.\n",
    "\"spam\" + \"spamspam\" = 'spamspamspam'\n",
    "\"spam\" * 3 = 'spamspamspam'"
   ]
  },
  {
   "cell_type": "code",
   "execution_count": null,
   "id": "dd8dec0e",
   "metadata": {},
   "outputs": [],
   "source": [
    "Q8. Eggs is a valid variable name because if we are supposed to create a variable that can store int data type it is \n",
    "completely and logically possible to store int value in this variable. On the other hand 100 is not a valid variable name \n",
    "as it in itself holds value as an integer can therefore cannot be used to store diff value ( 100 = 3, is not possible but eggs = 3 is [possible ])\n"
   ]
  },
  {
   "cell_type": "code",
   "execution_count": null,
   "id": "56934ec4",
   "metadata": {},
   "outputs": [],
   "source": [
    "Q9. int, float, string"
   ]
  },
  {
   "cell_type": "code",
   "execution_count": null,
   "id": "78deaf97",
   "metadata": {},
   "outputs": [],
   "source": [
    "Q10. the given expression is to concatenate two different data types which is not possible. To solve this we need to use \n",
    "the following expression : \n",
    "    \"I have eaten\" + \" 99 \" + \"burritos\"\n",
    "    this expression takes 99 as a string value not int as it is inside \"\""
   ]
  },
  {
   "cell_type": "code",
   "execution_count": 5,
   "id": "fc70ae2a",
   "metadata": {},
   "outputs": [
    {
     "data": {
      "text/plain": [
       "'I have eaten 99 burritos'"
      ]
     },
     "execution_count": 5,
     "metadata": {},
     "output_type": "execute_result"
    }
   ],
   "source": [
    " \"I have eaten\" + \" 99 \" + \"burritos\""
   ]
  },
  {
   "cell_type": "code",
   "execution_count": null,
   "id": "e93783f5",
   "metadata": {},
   "outputs": [],
   "source": []
  }
 ],
 "metadata": {
  "kernelspec": {
   "display_name": "Python 3 (ipykernel)",
   "language": "python",
   "name": "python3"
  },
  "language_info": {
   "codemirror_mode": {
    "name": "ipython",
    "version": 3
   },
   "file_extension": ".py",
   "mimetype": "text/x-python",
   "name": "python",
   "nbconvert_exporter": "python",
   "pygments_lexer": "ipython3",
   "version": "3.9.12"
  }
 },
 "nbformat": 4,
 "nbformat_minor": 5
}
